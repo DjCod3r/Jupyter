{
 "cells": [
  {
   "cell_type": "code",
   "execution_count": 1,
   "id": "0dd13460",
   "metadata": {},
   "outputs": [],
   "source": [
    "import numpy as np"
   ]
  },
  {
   "cell_type": "code",
   "execution_count": 2,
   "id": "f74e3e38",
   "metadata": {},
   "outputs": [
    {
     "data": {
      "text/plain": [
       "array([[20, 30, 40],\n",
       "       [10, 15, 20]])"
      ]
     },
     "execution_count": 2,
     "metadata": {},
     "output_type": "execute_result"
    }
   ],
   "source": [
    "array1 = np.array([[20 , 30 , 40],[10 , 15 , 20]]); array1"
   ]
  },
  {
   "cell_type": "code",
   "execution_count": 3,
   "id": "7415c327",
   "metadata": {},
   "outputs": [
    {
     "data": {
      "text/plain": [
       "array([[20, 10],\n",
       "       [30, 15],\n",
       "       [40, 20]])"
      ]
     },
     "execution_count": 3,
     "metadata": {},
     "output_type": "execute_result"
    }
   ],
   "source": [
    "#transpor\n",
    "array1.T"
   ]
  },
  {
   "cell_type": "code",
   "execution_count": 4,
   "id": "4bd2e072",
   "metadata": {},
   "outputs": [
    {
     "data": {
      "text/plain": [
       "array([[20, 30, 40],\n",
       "       [10, 15, 20]])"
      ]
     },
     "execution_count": 4,
     "metadata": {},
     "output_type": "execute_result"
    }
   ],
   "source": [
    "np.transpose(array1) ;array1"
   ]
  },
  {
   "cell_type": "code",
   "execution_count": 7,
   "id": "c5b90ac3",
   "metadata": {},
   "outputs": [
    {
     "data": {
      "text/plain": [
       "array([[10, 20, 30]])"
      ]
     },
     "execution_count": 7,
     "metadata": {},
     "output_type": "execute_result"
    }
   ],
   "source": [
    "array2 = np.array([[10 , 20 , 30]]) ;array2"
   ]
  },
  {
   "cell_type": "code",
   "execution_count": 10,
   "id": "b16b1dd8",
   "metadata": {},
   "outputs": [
    {
     "data": {
      "text/plain": [
       "array([[10],\n",
       "       [20],\n",
       "       [30]])"
      ]
     },
     "execution_count": 10,
     "metadata": {},
     "output_type": "execute_result"
    }
   ],
   "source": [
    "array2.T "
   ]
  },
  {
   "cell_type": "code",
   "execution_count": 11,
   "id": "e691fb1b",
   "metadata": {},
   "outputs": [
    {
     "data": {
      "text/plain": [
       "array([[20, 30, 40],\n",
       "       [30, 40, 50],\n",
       "       [40, 50, 60]])"
      ]
     },
     "execution_count": 11,
     "metadata": {},
     "output_type": "execute_result"
    }
   ],
   "source": [
    "#somando matrizes\n",
    "array2.T + array2"
   ]
  },
  {
   "cell_type": "code",
   "execution_count": 14,
   "id": "5492ef68",
   "metadata": {},
   "outputs": [],
   "source": [
    "#criação de um array com 2 arranjos de dados\n",
    "array3  = np.array([np.arange(1,6), np.arange(10,15)])"
   ]
  },
  {
   "cell_type": "code",
   "execution_count": 15,
   "id": "6de58c1d",
   "metadata": {},
   "outputs": [
    {
     "data": {
      "text/plain": [
       "array([[ 1,  2,  3,  4,  5],\n",
       "       [10, 11, 12, 13, 14]])"
      ]
     },
     "execution_count": 15,
     "metadata": {},
     "output_type": "execute_result"
    }
   ],
   "source": [
    "array3"
   ]
  },
  {
   "cell_type": "code",
   "execution_count": 16,
   "id": "d7843153",
   "metadata": {},
   "outputs": [
    {
     "data": {
      "text/plain": [
       "array([ 1,  2,  3,  4,  5, 10, 11, 12, 13, 14])"
      ]
     },
     "execution_count": 16,
     "metadata": {},
     "output_type": "execute_result"
    }
   ],
   "source": [
    "#transformar matriz em array\n",
    "array3.ravel()"
   ]
  },
  {
   "cell_type": "code",
   "execution_count": 17,
   "id": "1f9305cd",
   "metadata": {},
   "outputs": [
    {
     "data": {
      "text/plain": [
       "array([ 1, 10,  2, 11,  3, 12,  4, 13,  5, 14])"
      ]
     },
     "execution_count": 17,
     "metadata": {},
     "output_type": "execute_result"
    }
   ],
   "source": [
    "array3.T.ravel()"
   ]
  },
  {
   "cell_type": "code",
   "execution_count": null,
   "id": "9d33ad70",
   "metadata": {},
   "outputs": [],
   "source": []
  },
  {
   "cell_type": "code",
   "execution_count": 26,
   "id": "e3cb3a11",
   "metadata": {},
   "outputs": [
    {
     "data": {
      "text/plain": [
       "array([[9, 9, 4, 8, 8, 1],\n",
       "       [5, 3, 6, 3, 3, 3],\n",
       "       [2, 1, 9, 5, 1, 7],\n",
       "       [3, 5, 2, 6, 4, 5],\n",
       "       [5, 4, 8, 2, 2, 8],\n",
       "       [8, 1, 3, 4, 3, 6]])"
      ]
     },
     "execution_count": 26,
     "metadata": {},
     "output_type": "execute_result"
    }
   ],
   "source": [
    "#criar uma matriz aleatória\n",
    "np.random.seed(100)\n",
    "array4 = np.random.randint(1 , 10, size =(6,6)) ;array4"
   ]
  },
  {
   "cell_type": "code",
   "execution_count": 22,
   "id": "6c33fbc1",
   "metadata": {},
   "outputs": [
    {
     "data": {
      "text/plain": [
       "False"
      ]
     },
     "execution_count": 22,
     "metadata": {},
     "output_type": "execute_result"
    }
   ],
   "source": [
    "#dentro do array se existe numero divisivel por 7 que o resto é 0\n",
    "np.any((array4 % 7) == 0)"
   ]
  },
  {
   "cell_type": "code",
   "execution_count": 23,
   "id": "bc80bb61",
   "metadata": {},
   "outputs": [
    {
     "data": {
      "text/plain": [
       "True"
      ]
     },
     "execution_count": 23,
     "metadata": {},
     "output_type": "execute_result"
    }
   ],
   "source": [
    "#verificação se existem valores divisiveis por 3\n",
    "np.any((array4 % 3) == 0)"
   ]
  },
  {
   "cell_type": "code",
   "execution_count": 25,
   "id": "54d46093",
   "metadata": {},
   "outputs": [
    {
     "data": {
      "text/plain": [
       "True"
      ]
     },
     "execution_count": 25,
     "metadata": {},
     "output_type": "execute_result"
    }
   ],
   "source": [
    "#todos valores do array 4 são menores que 11 ?\n",
    "np.all(array4 < 11)"
   ]
  },
  {
   "cell_type": "code",
   "execution_count": 27,
   "id": "04faa3fb",
   "metadata": {},
   "outputs": [],
   "source": [
    "arrayRe = np.arange(1,16)"
   ]
  },
  {
   "cell_type": "code",
   "execution_count": 28,
   "id": "347814d8",
   "metadata": {},
   "outputs": [
    {
     "data": {
      "text/plain": [
       "array([ 1,  2,  3,  4,  5,  6,  7,  8,  9, 10, 11, 12, 13, 14, 15])"
      ]
     },
     "execution_count": 28,
     "metadata": {},
     "output_type": "execute_result"
    }
   ],
   "source": [
    "arrayRe"
   ]
  },
  {
   "cell_type": "code",
   "execution_count": 29,
   "id": "4c67fc85",
   "metadata": {},
   "outputs": [
    {
     "data": {
      "text/plain": [
       "array([[ 1,  2,  3,  4,  5],\n",
       "       [ 6,  7,  8,  9, 10],\n",
       "       [11, 12, 13, 14, 15]])"
      ]
     },
     "execution_count": 29,
     "metadata": {},
     "output_type": "execute_result"
    }
   ],
   "source": [
    "arrayRe.reshape(3,5)"
   ]
  },
  {
   "cell_type": "code",
   "execution_count": 37,
   "id": "6af0715d",
   "metadata": {},
   "outputs": [],
   "source": [
    "#Criar array\n",
    "arrayOrd = np.array([[10 , -2], [9 , 5]])"
   ]
  },
  {
   "cell_type": "code",
   "execution_count": 38,
   "id": "652c2a1f",
   "metadata": {},
   "outputs": [
    {
     "data": {
      "text/plain": [
       "array([[10, -2],\n",
       "       [ 9,  5]])"
      ]
     },
     "execution_count": 38,
     "metadata": {},
     "output_type": "execute_result"
    }
   ],
   "source": [
    "arrayOrd"
   ]
  },
  {
   "cell_type": "code",
   "execution_count": 40,
   "id": "8c5689db",
   "metadata": {},
   "outputs": [
    {
     "data": {
      "text/plain": [
       "array([[-2, 10],\n",
       "       [ 5,  9]])"
      ]
     },
     "execution_count": 40,
     "metadata": {},
     "output_type": "execute_result"
    }
   ],
   "source": [
    "#ordenar array por linhas\n",
    "arrayOrd.sort(axis = 1) ;arrayOrd"
   ]
  },
  {
   "cell_type": "code",
   "execution_count": 41,
   "id": "4af71e77",
   "metadata": {},
   "outputs": [
    {
     "data": {
      "text/plain": [
       "array([[-2,  9],\n",
       "       [ 5, 10]])"
      ]
     },
     "execution_count": 41,
     "metadata": {},
     "output_type": "execute_result"
    }
   ],
   "source": [
    "#ordenar array por colun\n",
    "arrayOrd.sort(axis = 0);arrayOrd"
   ]
  },
  {
   "cell_type": "code",
   "execution_count": null,
   "id": "1d28a4e6",
   "metadata": {},
   "outputs": [],
   "source": []
  }
 ],
 "metadata": {
  "kernelspec": {
   "display_name": "Python 3",
   "language": "python",
   "name": "python3"
  },
  "language_info": {
   "codemirror_mode": {
    "name": "ipython",
    "version": 3
   },
   "file_extension": ".py",
   "mimetype": "text/x-python",
   "name": "python",
   "nbconvert_exporter": "python",
   "pygments_lexer": "ipython3",
   "version": "3.8.8"
  }
 },
 "nbformat": 4,
 "nbformat_minor": 5
}
