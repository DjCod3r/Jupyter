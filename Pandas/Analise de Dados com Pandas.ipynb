{
 "cells": [
  {
   "cell_type": "markdown",
   "id": "50c56ffb",
   "metadata": {},
   "source": [
    "# Estruturas de dados em Pandas"
   ]
  },
  {
   "cell_type": "markdown",
   "id": "da846200",
   "metadata": {},
   "source": [
    "### pandas.Series() - 1 Dimensão 2D\n",
    "### pandas.DataFrame() - 2 Dimensões 2D\n",
    "### pandas.Panel() - 3 Dimensões 3D\n",
    "### numpy.ndarray() x Dimensões"
   ]
  },
  {
   "cell_type": "code",
   "execution_count": 12,
   "id": "39b0356f",
   "metadata": {},
   "outputs": [],
   "source": [
    "import pandas as pd\n",
    "import numpy as np"
   ]
  },
  {
   "cell_type": "code",
   "execution_count": 13,
   "id": "6291dd1f",
   "metadata": {},
   "outputs": [
    {
     "data": {
      "text/plain": [
       "0    0.543405\n",
       "1    0.278369\n",
       "2    0.424518\n",
       "3    0.844776\n",
       "4    0.004719\n",
       "5    0.121569\n",
       "6    0.670749\n",
       "7    0.825853\n",
       "8    0.136707\n",
       "9    0.575093\n",
       "dtype: float64"
      ]
     },
     "execution_count": 13,
     "metadata": {},
     "output_type": "execute_result"
    }
   ],
   "source": [
    "#criação conjuntos rand com pandas\n",
    "np.random.seed(100)\n",
    "Serie1 = pd.Series(np.random.rand(10)) ;Serie1"
   ]
  },
  {
   "cell_type": "code",
   "execution_count": 14,
   "id": "4deb4a30",
   "metadata": {},
   "outputs": [
    {
     "data": {
      "text/plain": [
       "pandas.core.series.Series"
      ]
     },
     "execution_count": 14,
     "metadata": {},
     "output_type": "execute_result"
    }
   ],
   "source": [
    "type(Serie1)"
   ]
  },
  {
   "cell_type": "code",
   "execution_count": 15,
   "id": "91e14a71",
   "metadata": {},
   "outputs": [],
   "source": [
    "import calendar as cal"
   ]
  },
  {
   "cell_type": "code",
   "execution_count": 16,
   "id": "89537c11",
   "metadata": {},
   "outputs": [
    {
     "data": {
      "text/plain": [
       "January       1\n",
       "February      2\n",
       "March         3\n",
       "April         4\n",
       "May           5\n",
       "June          6\n",
       "July          7\n",
       "August        8\n",
       "September     9\n",
       "October      10\n",
       "November     11\n",
       "December     12\n",
       "dtype: int32"
      ]
     },
     "execution_count": 16,
     "metadata": {},
     "output_type": "execute_result"
    }
   ],
   "source": [
    "#criar um calendario com os indexes dos meses \n",
    "meses = [cal.month_name[i] for i in np.arange(1,13)]\n",
    "meses_Series1 = pd.Series(np.arange(1,13), index = meses) ; meses_Series1"
   ]
  },
  {
   "cell_type": "code",
   "execution_count": 18,
   "id": "086629e3",
   "metadata": {
    "scrolled": true
   },
   "outputs": [
    {
     "data": {
      "text/plain": [
       "Index(['January', 'February', 'March', 'April', 'May', 'June', 'July',\n",
       "       'August', 'September', 'October', 'November', 'December'],\n",
       "      dtype='object')"
      ]
     },
     "execution_count": 18,
     "metadata": {},
     "output_type": "execute_result"
    }
   ],
   "source": [
    "meses_Series1.index"
   ]
  },
  {
   "cell_type": "markdown",
   "id": "8342674f",
   "metadata": {},
   "source": []
  },
  {
   "cell_type": "code",
   "execution_count": 20,
   "id": "7b5d94e4",
   "metadata": {},
   "outputs": [],
   "source": [
    "#criação de dataset\n",
    "dict1 = {'US' : 'dollar' , 'UK' : 'pound', 'Germany' : 'euro', 'Brazil' : 'real' , 'China' : 'yuan' , 'Japao' : 'yen'}"
   ]
  },
  {
   "cell_type": "code",
   "execution_count": 22,
   "id": "0f4e1a25",
   "metadata": {},
   "outputs": [
    {
     "data": {
      "text/plain": [
       "US         dollar\n",
       "UK          pound\n",
       "Germany      euro\n",
       "Brazil       real\n",
       "China        yuan\n",
       "Japao         yen\n",
       "dtype: object"
      ]
     },
     "execution_count": 22,
     "metadata": {},
     "output_type": "execute_result"
    }
   ],
   "source": [
    "#exibição\n",
    "moeda_Series1 = pd.Series(dict1);moeda_Series1"
   ]
  },
  {
   "cell_type": "code",
   "execution_count": 28,
   "id": "0bac80e5",
   "metadata": {},
   "outputs": [],
   "source": [
    "stockPrices = {'GOOGLE': 1500.82 , 'META' : 582.20 , 'TWTR' : 282.20 , 'AMAZON' : 747.10 , 'AAPLE' : 2072}\n",
    "stockPricesSeries = pd.Series(stockPrices,\n",
    "                             index = ['GOOGLE' , 'META' , 'YAHOO' , 'TWTR', 'AMAZON' , 'AAPLE'],\n",
    "                             name = 'stockPrices')"
   ]
  },
  {
   "cell_type": "code",
   "execution_count": 29,
   "id": "616a38b9",
   "metadata": {},
   "outputs": [
    {
     "data": {
      "text/plain": [
       "GOOGLE    1500.82\n",
       "META       582.20\n",
       "YAHOO         NaN\n",
       "TWTR       282.20\n",
       "AMAZON     747.10\n",
       "AAPLE     2072.00\n",
       "Name: stockPrices, dtype: float64"
      ]
     },
     "execution_count": 29,
     "metadata": {},
     "output_type": "execute_result"
    }
   ],
   "source": [
    "stockPricesSeries"
   ]
  },
  {
   "cell_type": "code",
   "execution_count": 32,
   "id": "c84ac196",
   "metadata": {},
   "outputs": [
    {
     "data": {
      "text/plain": [
       "Pernas    Human\n",
       "Tronco    Human\n",
       "Braços    Human\n",
       "Cabeça    Human\n",
       "dtype: object"
      ]
     },
     "execution_count": 32,
     "metadata": {},
     "output_type": "execute_result"
    }
   ],
   "source": [
    "humanSerie = pd.Series('Human', index = ['Pernas' , 'Tronco','Braços', 'Cabeça' ])\n",
    "humanSerie"
   ]
  },
  {
   "cell_type": "markdown",
   "id": "d4808906",
   "metadata": {},
   "source": [
    "# Operações com Series"
   ]
  },
  {
   "cell_type": "code",
   "execution_count": 34,
   "id": "42a4f725",
   "metadata": {},
   "outputs": [
    {
     "data": {
      "text/plain": [
       "'yuan'"
      ]
     },
     "execution_count": 34,
     "metadata": {},
     "output_type": "execute_result"
    }
   ],
   "source": [
    "#obtendo um valor\n",
    "dict1['China']"
   ]
  },
  {
   "cell_type": "code",
   "execution_count": 35,
   "id": "7fc6fb59",
   "metadata": {},
   "outputs": [],
   "source": [
    "#Alterar Elementos\n",
    "stockPricesSeries['GOOGLE'] = 1200"
   ]
  },
  {
   "cell_type": "code",
   "execution_count": 36,
   "id": "1a8276f5",
   "metadata": {},
   "outputs": [
    {
     "data": {
      "text/plain": [
       "1200.0"
      ]
     },
     "execution_count": 36,
     "metadata": {},
     "output_type": "execute_result"
    }
   ],
   "source": [
    "stockPricesSeries['GOOGLE']"
   ]
  },
  {
   "cell_type": "code",
   "execution_count": 39,
   "id": "9bf4c74c",
   "metadata": {},
   "outputs": [
    {
     "data": {
      "text/plain": [
       "nan"
      ]
     },
     "execution_count": 39,
     "metadata": {},
     "output_type": "execute_result"
    }
   ],
   "source": [
    "stockPricesSeries.get('XPTO', np.NaN)"
   ]
  },
  {
   "cell_type": "code",
   "execution_count": 44,
   "id": "caf16a79",
   "metadata": {},
   "outputs": [
    {
     "data": {
      "text/plain": [
       "TWTR       282.2\n",
       "AMAZON     747.1\n",
       "AAPLE     2072.0\n",
       "Name: stockPrices, dtype: float64"
      ]
     },
     "execution_count": 44,
     "metadata": {},
     "output_type": "execute_result"
    }
   ],
   "source": [
    "#returna a partir do 3 indice\n",
    "stockPricesSeries[3:]"
   ]
  },
  {
   "cell_type": "code",
   "execution_count": 45,
   "id": "8efc86e6",
   "metadata": {},
   "outputs": [
    {
     "data": {
      "text/plain": [
       "GOOGLE    1200.0\n",
       "META       582.2\n",
       "YAHOO        NaN\n",
       "Name: stockPrices, dtype: float64"
      ]
     },
     "execution_count": 45,
     "metadata": {},
     "output_type": "execute_result"
    }
   ],
   "source": [
    "#retorna até o index 3\n",
    "stockPricesSeries[:3]"
   ]
  },
  {
   "cell_type": "code",
   "execution_count": 47,
   "id": "5ca682f3",
   "metadata": {},
   "outputs": [
    {
     "data": {
      "text/plain": [
       "GOOGLE    1200.0\n",
       "AMAZON     747.1\n",
       "AAPLE     2072.0\n",
       "Name: stockPrices, dtype: float64"
      ]
     },
     "execution_count": 47,
     "metadata": {},
     "output_type": "execute_result"
    }
   ],
   "source": [
    "#returna valores maior que 600\n",
    "stockPricesSeries[stockPricesSeries > 600]"
   ]
  },
  {
   "cell_type": "code",
   "execution_count": 48,
   "id": "13a932a7",
   "metadata": {},
   "outputs": [
    {
     "data": {
      "text/plain": [
       "976.7"
      ]
     },
     "execution_count": 48,
     "metadata": {},
     "output_type": "execute_result"
    }
   ],
   "source": [
    "#média dos valores\n",
    "np.mean(stockPricesSeries)"
   ]
  },
  {
   "cell_type": "code",
   "execution_count": 50,
   "id": "8e708b34",
   "metadata": {},
   "outputs": [
    {
     "data": {
      "text/plain": [
       "622.9320412372444"
      ]
     },
     "execution_count": 50,
     "metadata": {},
     "output_type": "execute_result"
    }
   ],
   "source": [
    "#cálculo de desvio padrão\n",
    "np.std(stockPricesSeries)"
   ]
  },
  {
   "cell_type": "code",
   "execution_count": null,
   "id": "e111dc32",
   "metadata": {},
   "outputs": [],
   "source": []
  }
 ],
 "metadata": {
  "kernelspec": {
   "display_name": "Python 3",
   "language": "python",
   "name": "python3"
  },
  "language_info": {
   "codemirror_mode": {
    "name": "ipython",
    "version": 3
   },
   "file_extension": ".py",
   "mimetype": "text/x-python",
   "name": "python",
   "nbconvert_exporter": "python",
   "pygments_lexer": "ipython3",
   "version": "3.8.8"
  }
 },
 "nbformat": 4,
 "nbformat_minor": 5
}
