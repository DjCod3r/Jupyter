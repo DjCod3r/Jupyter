{
 "cells": [
  {
   "cell_type": "code",
   "execution_count": 1,
   "id": "64b19e7e",
   "metadata": {},
   "outputs": [],
   "source": [
    "#importar NUMPY\n",
    "import numpy as np"
   ]
  },
  {
   "cell_type": "code",
   "execution_count": 14,
   "id": "d0f52e1e",
   "metadata": {},
   "outputs": [],
   "source": [
    "#criar array de uma dimensão com NP\n",
    "arrayUnidimencional = np.array([10, 20 , 40 , 50, 2])"
   ]
  },
  {
   "cell_type": "code",
   "execution_count": 17,
   "id": "0611a71a",
   "metadata": {},
   "outputs": [],
   "source": [
    "#array de 2 dimensões\n",
    "arrayBidimencional = np.array([[20 , 10 , 20], [15, 25 , 15]])"
   ]
  },
  {
   "cell_type": "code",
   "execution_count": 12,
   "id": "ba7af827",
   "metadata": {},
   "outputs": [
    {
     "data": {
      "text/plain": [
       "array([10, 20, 40, 50])"
      ]
     },
     "execution_count": 12,
     "metadata": {},
     "output_type": "execute_result"
    }
   ],
   "source": [
    "#Verificação \n",
    "arrayUnidimencional"
   ]
  },
  {
   "cell_type": "code",
   "execution_count": 11,
   "id": "182deaf9",
   "metadata": {},
   "outputs": [
    {
     "data": {
      "text/plain": [
       "array([[20, 10, 20],\n",
       "       [15, 25, 15]])"
      ]
     },
     "execution_count": 11,
     "metadata": {},
     "output_type": "execute_result"
    }
   ],
   "source": [
    "arrayBidimencional"
   ]
  },
  {
   "cell_type": "code",
   "execution_count": 15,
   "id": "66cc7fcf",
   "metadata": {},
   "outputs": [
    {
     "data": {
      "text/plain": [
       "(5,)"
      ]
     },
     "execution_count": 15,
     "metadata": {},
     "output_type": "execute_result"
    }
   ],
   "source": [
    "#Shape mostra a quantidade de indices e formato\n",
    "arrayUnidimencional.shape"
   ]
  },
  {
   "cell_type": "code",
   "execution_count": 18,
   "id": "fe51b551",
   "metadata": {},
   "outputs": [
    {
     "data": {
      "text/plain": [
       "(2, 3)"
      ]
     },
     "execution_count": 18,
     "metadata": {},
     "output_type": "execute_result"
    }
   ],
   "source": [
    "arrayBidimencional.shape"
   ]
  },
  {
   "cell_type": "code",
   "execution_count": 19,
   "id": "fa926d2a",
   "metadata": {},
   "outputs": [
    {
     "data": {
      "text/plain": [
       "2"
      ]
     },
     "execution_count": 19,
     "metadata": {},
     "output_type": "execute_result"
    }
   ],
   "source": [
    "#verificar quantas dimenções existem\n",
    "arrayBidimencional.ndim"
   ]
  },
  {
   "cell_type": "code",
   "execution_count": 20,
   "id": "2a693765",
   "metadata": {},
   "outputs": [],
   "source": [
    "#arange cria uma estrutura de dados\n",
    "arranjo = np.arange(10)"
   ]
  },
  {
   "cell_type": "code",
   "execution_count": 21,
   "id": "1a352ad9",
   "metadata": {},
   "outputs": [
    {
     "data": {
      "text/plain": [
       "array([0, 1, 2, 3, 4, 5, 6, 7, 8, 9])"
      ]
     },
     "execution_count": 21,
     "metadata": {},
     "output_type": "execute_result"
    }
   ],
   "source": [
    "arranjo"
   ]
  },
  {
   "cell_type": "code",
   "execution_count": 28,
   "id": "2c3e6aca",
   "metadata": {},
   "outputs": [],
   "source": [
    "#começa em 0 vai até o valor 50 e pula de 10 em 10\n",
    "arranjoT = np.arange (1, 50 , 10)"
   ]
  },
  {
   "cell_type": "code",
   "execution_count": 29,
   "id": "16004b24",
   "metadata": {},
   "outputs": [
    {
     "data": {
      "text/plain": [
       "array([ 1, 11, 21, 31, 41])"
      ]
     },
     "execution_count": 29,
     "metadata": {},
     "output_type": "execute_result"
    }
   ],
   "source": [
    "arranjoT"
   ]
  },
  {
   "cell_type": "code",
   "execution_count": 33,
   "id": "284a9e83",
   "metadata": {},
   "outputs": [
    {
     "data": {
      "text/plain": [
       "array([0., 1., 2., 3., 4., 5., 6.])"
      ]
     },
     "execution_count": 33,
     "metadata": {},
     "output_type": "execute_result"
    }
   ],
   "source": [
    "#Criar estruturas de dados utilizando Linspace (Começo , fim , numero de indices)\n",
    "arrayLinspace = np.linspace(0 , 6 , 7) ; arrayLinspace # <- executar diretamente"
   ]
  },
  {
   "cell_type": "code",
   "execution_count": 35,
   "id": "ea949ba0",
   "metadata": {},
   "outputs": [
    {
     "data": {
      "text/plain": [
       "array([[1., 1., 1., 1., 1.],\n",
       "       [1., 1., 1., 1., 1.],\n",
       "       [1., 1., 1., 1., 1.],\n",
       "       [1., 1., 1., 1., 1.],\n",
       "       [1., 1., 1., 1., 1.]])"
      ]
     },
     "execution_count": 35,
     "metadata": {},
     "output_type": "execute_result"
    }
   ],
   "source": [
    "#Criando matrizes com Numpy\n",
    "matriz = np.ones((5 ,5)) ;matriz"
   ]
  },
  {
   "cell_type": "code",
   "execution_count": 45,
   "id": "fbdec404",
   "metadata": {},
   "outputs": [
    {
     "data": {
      "text/plain": [
       "array([[[0., 0., 0.],\n",
       "        [0., 0., 0.],\n",
       "        [0., 0., 0.]],\n",
       "\n",
       "       [[0., 0., 0.],\n",
       "        [0., 0., 0.],\n",
       "        [0., 0., 0.]],\n",
       "\n",
       "       [[0., 0., 0.],\n",
       "        [0., 0., 0.],\n",
       "        [0., 0., 0.]]])"
      ]
     },
     "execution_count": 45,
     "metadata": {},
     "output_type": "execute_result"
    }
   ],
   "source": [
    "#tres dimenções de 0\n",
    "matrizT = np.zeros((3,3,3)) ;matrizT"
   ]
  },
  {
   "cell_type": "code",
   "execution_count": 47,
   "id": "0835d68c",
   "metadata": {},
   "outputs": [
    {
     "data": {
      "text/plain": [
       "array([[1., 0., 0., 0.],\n",
       "       [0., 1., 0., 0.],\n",
       "       [0., 0., 1., 0.],\n",
       "       [0., 0., 0., 1.]])"
      ]
     },
     "execution_count": 47,
     "metadata": {},
     "output_type": "execute_result"
    }
   ],
   "source": [
    "#eye valor 1 em diagonal na matriz\n",
    "matrizDiagonal = np.eye(4) ;matrizDiagonal"
   ]
  },
  {
   "cell_type": "code",
   "execution_count": 56,
   "id": "db89a949",
   "metadata": {},
   "outputs": [
    {
     "data": {
      "text/plain": [
       "array([[2, 0, 0, 0, 0],\n",
       "       [0, 6, 0, 0, 0],\n",
       "       [0, 0, 4, 0, 0],\n",
       "       [0, 0, 0, 5, 0],\n",
       "       [0, 0, 0, 0, 8]])"
      ]
     },
     "execution_count": 56,
     "metadata": {},
     "output_type": "execute_result"
    }
   ],
   "source": [
    "#Diag faz com que podemos selecionar os valores\n",
    "matrizDiagonalValue = np.diag((2, 6, 4 , 5 , 8)) ;matrizDiagonalValue"
   ]
  },
  {
   "cell_type": "markdown",
   "id": "00b189d0",
   "metadata": {},
   "source": [
    "NUMPY.RANDOM.RAND"
   ]
  },
  {
   "cell_type": "code",
   "execution_count": 63,
   "id": "d639bc7b",
   "metadata": {},
   "outputs": [
    {
     "data": {
      "text/plain": [
       "array([0.54340494, 0.27836939, 0.42451759, 0.84477613, 0.00471886,\n",
       "       0.12156912])"
      ]
     },
     "execution_count": 63,
     "metadata": {},
     "output_type": "execute_result"
    }
   ],
   "source": [
    "#função rand(n) vai criar uma sequencia numérica de 0 a n\n",
    "np.random.seed(100)\n",
    "randomVet = np.random.rand(6) ;randomVet"
   ]
  },
  {
   "cell_type": "code",
   "execution_count": 64,
   "id": "6ce4a7cc",
   "metadata": {},
   "outputs": [
    {
     "data": {
      "text/plain": [
       "array([-1.74976547,  0.3426804 ,  1.1530358 , -0.25243604,  0.98132079,\n",
       "        0.51421884])"
      ]
     },
     "execution_count": 64,
     "metadata": {},
     "output_type": "execute_result"
    }
   ],
   "source": [
    "#função randn(n) vai criar uma sequencia de numeros com distribuição normal(gaussian)\n",
    "np.random.seed(100)\n",
    "randomVetn = np.random.randn(6) ;randomVetn"
   ]
  },
  {
   "cell_type": "code",
   "execution_count": 68,
   "id": "9c26e1d3",
   "metadata": {},
   "outputs": [
    {
     "data": {
      "text/plain": [
       "array([[1.74976547, 0.3426804 ],\n",
       "       [1.1530358 , 0.25243604],\n",
       "       [0.98132079, 0.51421884]])"
      ]
     },
     "execution_count": 68,
     "metadata": {},
     "output_type": "execute_result"
    }
   ],
   "source": [
    "T = np.empty((3,2)) ;T\n",
    "T"
   ]
  },
  {
   "cell_type": "code",
   "execution_count": null,
   "id": "a9630ee7",
   "metadata": {},
   "outputs": [],
   "source": []
  }
 ],
 "metadata": {
  "kernelspec": {
   "display_name": "Python 3",
   "language": "python",
   "name": "python3"
  },
  "language_info": {
   "codemirror_mode": {
    "name": "ipython",
    "version": 3
   },
   "file_extension": ".py",
   "mimetype": "text/x-python",
   "name": "python",
   "nbconvert_exporter": "python",
   "pygments_lexer": "ipython3",
   "version": "3.8.8"
  }
 },
 "nbformat": 4,
 "nbformat_minor": 5
}
