{
 "cells": [
  {
   "cell_type": "code",
   "execution_count": 2,
   "metadata": {},
   "outputs": [],
   "source": [
    "import numpy as np"
   ]
  },
  {
   "cell_type": "code",
   "execution_count": 3,
   "metadata": {},
   "outputs": [
    {
     "data": {
      "text/plain": [
       "array([ 4, 11, 31, 47, 30, 25, 35, 29, 48, 21, 49, 28, 37, 35, 39,  5, 40,\n",
       "       48, 14, 30])"
      ]
     },
     "execution_count": 3,
     "metadata": {},
     "output_type": "execute_result"
    }
   ],
   "source": [
    "array1 = np.random.randint(0 , 50 , 20) ; array1"
   ]
  },
  {
   "cell_type": "code",
   "execution_count": 4,
   "metadata": {},
   "outputs": [],
   "source": [
    "#criar uma função para retornar o cubo se o numero for menor que 10\n",
    "def calculo(x):\n",
    "    if x < 10:\n",
    "        return x**3\n",
    "    else:\n",
    "        return x**2"
   ]
  },
  {
   "cell_type": "code",
   "execution_count": 5,
   "metadata": {},
   "outputs": [
    {
     "name": "stdout",
     "output_type": "stream",
     "text": [
      "\u001b[1;31mInit signature:\u001b[0m\n",
      "\u001b[0mnp\u001b[0m\u001b[1;33m.\u001b[0m\u001b[0mvectorize\u001b[0m\u001b[1;33m(\u001b[0m\u001b[1;33m\n",
      "\u001b[0m    \u001b[0mpyfunc\u001b[0m\u001b[1;33m,\u001b[0m\u001b[1;33m\n",
      "\u001b[0m    \u001b[0motypes\u001b[0m\u001b[1;33m=\u001b[0m\u001b[1;32mNone\u001b[0m\u001b[1;33m,\u001b[0m\u001b[1;33m\n",
      "\u001b[0m    \u001b[0mdoc\u001b[0m\u001b[1;33m=\u001b[0m\u001b[1;32mNone\u001b[0m\u001b[1;33m,\u001b[0m\u001b[1;33m\n",
      "\u001b[0m    \u001b[0mexcluded\u001b[0m\u001b[1;33m=\u001b[0m\u001b[1;32mNone\u001b[0m\u001b[1;33m,\u001b[0m\u001b[1;33m\n",
      "\u001b[0m    \u001b[0mcache\u001b[0m\u001b[1;33m=\u001b[0m\u001b[1;32mFalse\u001b[0m\u001b[1;33m,\u001b[0m\u001b[1;33m\n",
      "\u001b[0m    \u001b[0msignature\u001b[0m\u001b[1;33m=\u001b[0m\u001b[1;32mNone\u001b[0m\u001b[1;33m,\u001b[0m\u001b[1;33m\n",
      "\u001b[0m\u001b[1;33m)\u001b[0m\u001b[1;33m\u001b[0m\u001b[1;33m\u001b[0m\u001b[0m\n",
      "\u001b[1;31mDocstring:\u001b[0m     \n",
      "vectorize(pyfunc, otypes=None, doc=None, excluded=None, cache=False,\n",
      "          signature=None)\n",
      "\n",
      "Generalized function class.\n",
      "\n",
      "Define a vectorized function which takes a nested sequence of objects or\n",
      "numpy arrays as inputs and returns a single numpy array or a tuple of numpy\n",
      "arrays. The vectorized function evaluates `pyfunc` over successive tuples\n",
      "of the input arrays like the python map function, except it uses the\n",
      "broadcasting rules of numpy.\n",
      "\n",
      "The data type of the output of `vectorized` is determined by calling\n",
      "the function with the first element of the input.  This can be avoided\n",
      "by specifying the `otypes` argument.\n",
      "\n",
      "Parameters\n",
      "----------\n",
      "pyfunc : callable\n",
      "    A python function or method.\n",
      "otypes : str or list of dtypes, optional\n",
      "    The output data type. It must be specified as either a string of\n",
      "    typecode characters or a list of data type specifiers. There should\n",
      "    be one data type specifier for each output.\n",
      "doc : str, optional\n",
      "    The docstring for the function. If None, the docstring will be the\n",
      "    ``pyfunc.__doc__``.\n",
      "excluded : set, optional\n",
      "    Set of strings or integers representing the positional or keyword\n",
      "    arguments for which the function will not be vectorized.  These will be\n",
      "    passed directly to `pyfunc` unmodified.\n",
      "\n",
      "    .. versionadded:: 1.7.0\n",
      "\n",
      "cache : bool, optional\n",
      "    If `True`, then cache the first function call that determines the number\n",
      "    of outputs if `otypes` is not provided.\n",
      "\n",
      "    .. versionadded:: 1.7.0\n",
      "\n",
      "signature : string, optional\n",
      "    Generalized universal function signature, e.g., ``(m,n),(n)->(m)`` for\n",
      "    vectorized matrix-vector multiplication. If provided, ``pyfunc`` will\n",
      "    be called with (and expected to return) arrays with shapes given by the\n",
      "    size of corresponding core dimensions. By default, ``pyfunc`` is\n",
      "    assumed to take scalars as input and output.\n",
      "\n",
      "    .. versionadded:: 1.12.0\n",
      "\n",
      "Returns\n",
      "-------\n",
      "vectorized : callable\n",
      "    Vectorized function.\n",
      "\n",
      "See Also\n",
      "--------\n",
      "frompyfunc : Takes an arbitrary Python function and returns a ufunc\n",
      "\n",
      "Notes\n",
      "-----\n",
      "The `vectorize` function is provided primarily for convenience, not for\n",
      "performance. The implementation is essentially a for loop.\n",
      "\n",
      "If `otypes` is not specified, then a call to the function with the\n",
      "first argument will be used to determine the number of outputs.  The\n",
      "results of this call will be cached if `cache` is `True` to prevent\n",
      "calling the function twice.  However, to implement the cache, the\n",
      "original function must be wrapped which will slow down subsequent\n",
      "calls, so only do this if your function is expensive.\n",
      "\n",
      "The new keyword argument interface and `excluded` argument support\n",
      "further degrades performance.\n",
      "\n",
      "References\n",
      "----------\n",
      ".. [1] :doc:`/reference/c-api/generalized-ufuncs`\n",
      "\n",
      "Examples\n",
      "--------\n",
      ">>> def myfunc(a, b):\n",
      "...     \"Return a-b if a>b, otherwise return a+b\"\n",
      "...     if a > b:\n",
      "...         return a - b\n",
      "...     else:\n",
      "...         return a + b\n",
      "\n",
      ">>> vfunc = np.vectorize(myfunc)\n",
      ">>> vfunc([1, 2, 3, 4], 2)\n",
      "array([3, 4, 1, 2])\n",
      "\n",
      "The docstring is taken from the input function to `vectorize` unless it\n",
      "is specified:\n",
      "\n",
      ">>> vfunc.__doc__\n",
      "'Return a-b if a>b, otherwise return a+b'\n",
      ">>> vfunc = np.vectorize(myfunc, doc='Vectorized `myfunc`')\n",
      ">>> vfunc.__doc__\n",
      "'Vectorized `myfunc`'\n",
      "\n",
      "The output type is determined by evaluating the first element of the input,\n",
      "unless it is specified:\n",
      "\n",
      ">>> out = vfunc([1, 2, 3, 4], 2)\n",
      ">>> type(out[0])\n",
      "<class 'numpy.int64'>\n",
      ">>> vfunc = np.vectorize(myfunc, otypes=[float])\n",
      ">>> out = vfunc([1, 2, 3, 4], 2)\n",
      ">>> type(out[0])\n",
      "<class 'numpy.float64'>\n",
      "\n",
      "The `excluded` argument can be used to prevent vectorizing over certain\n",
      "arguments.  This can be useful for array-like arguments of a fixed length\n",
      "such as the coefficients for a polynomial as in `polyval`:\n",
      "\n",
      ">>> def mypolyval(p, x):\n",
      "...     _p = list(p)\n",
      "...     res = _p.pop(0)\n",
      "...     while _p:\n",
      "...         res = res*x + _p.pop(0)\n",
      "...     return res\n",
      ">>> vpolyval = np.vectorize(mypolyval, excluded=['p'])\n",
      ">>> vpolyval(p=[1, 2, 3], x=[0, 1])\n",
      "array([3, 6])\n",
      "\n",
      "Positional arguments may also be excluded by specifying their position:\n",
      "\n",
      ">>> vpolyval.excluded.add(0)\n",
      ">>> vpolyval([1, 2, 3], x=[0, 1])\n",
      "array([3, 6])\n",
      "\n",
      "The `signature` argument allows for vectorizing functions that act on\n",
      "non-scalar arrays of fixed length. For example, you can use it for a\n",
      "vectorized calculation of Pearson correlation coefficient and its p-value:\n",
      "\n",
      ">>> import scipy.stats\n",
      ">>> pearsonr = np.vectorize(scipy.stats.pearsonr,\n",
      "...                 signature='(n),(n)->(),()')\n",
      ">>> pearsonr([[0, 1, 2, 3]], [[1, 2, 3, 4], [4, 3, 2, 1]])\n",
      "(array([ 1., -1.]), array([ 0.,  0.]))\n",
      "\n",
      "Or for a vectorized convolution:\n",
      "\n",
      ">>> convolve = np.vectorize(np.convolve, signature='(n),(m)->(k)')\n",
      ">>> convolve(np.eye(4), [1, 2, 1])\n",
      "array([[1., 2., 1., 0., 0., 0.],\n",
      "       [0., 1., 2., 1., 0., 0.],\n",
      "       [0., 0., 1., 2., 1., 0.],\n",
      "       [0., 0., 0., 1., 2., 1.]])\n",
      "\u001b[1;31mFile:\u001b[0m           c:\\anaconda3\\lib\\site-packages\\numpy\\__init__.py\n",
      "\u001b[1;31mType:\u001b[0m           type\n",
      "\u001b[1;31mSubclasses:\u001b[0m     \n"
     ]
    }
   ],
   "source": [
    "?np.vectorize"
   ]
  },
  {
   "cell_type": "code",
   "execution_count": 6,
   "metadata": {},
   "outputs": [
    {
     "data": {
      "text/plain": [
       "<numpy.vectorize at 0x149d95d36a0>"
      ]
     },
     "execution_count": 6,
     "metadata": {},
     "output_type": "execute_result"
    }
   ],
   "source": [
    "#vetorizar a função\n",
    "vector = np.vectorize(calculo) ; vector"
   ]
  },
  {
   "cell_type": "code",
   "execution_count": 7,
   "metadata": {},
   "outputs": [
    {
     "data": {
      "text/plain": [
       "array([  64,  121,  961, 2209,  900,  625, 1225,  841, 2304,  441, 2401,\n",
       "        784, 1369, 1225, 1521,  125, 1600, 2304,  196,  900])"
      ]
     },
     "execution_count": 7,
     "metadata": {},
     "output_type": "execute_result"
    }
   ],
   "source": [
    "vector(array1)"
   ]
  },
  {
   "cell_type": "code",
   "execution_count": 8,
   "metadata": {},
   "outputs": [
    {
     "data": {
      "text/plain": [
       "[64,\n",
       " 121,\n",
       " 961,\n",
       " 2209,\n",
       " 900,\n",
       " 625,\n",
       " 1225,\n",
       " 841,\n",
       " 2304,\n",
       " 441,\n",
       " 2401,\n",
       " 784,\n",
       " 1369,\n",
       " 1225,\n",
       " 1521,\n",
       " 125,\n",
       " 1600,\n",
       " 2304,\n",
       " 196,\n",
       " 900]"
      ]
     },
     "execution_count": 8,
     "metadata": {},
     "output_type": "execute_result"
    }
   ],
   "source": [
    "#Usando o map para vetorizar a função\n",
    "list(map(calculo, array1))"
   ]
  },
  {
   "cell_type": "code",
   "execution_count": 9,
   "metadata": {},
   "outputs": [
    {
     "data": {
      "text/plain": [
       "[64,\n",
       " 121,\n",
       " 961,\n",
       " 2209,\n",
       " 900,\n",
       " 625,\n",
       " 1225,\n",
       " 841,\n",
       " 2304,\n",
       " 441,\n",
       " 2401,\n",
       " 784,\n",
       " 1369,\n",
       " 1225,\n",
       " 1521,\n",
       " 125,\n",
       " 1600,\n",
       " 2304,\n",
       " 196,\n",
       " 900]"
      ]
     },
     "execution_count": 9,
     "metadata": {},
     "output_type": "execute_result"
    }
   ],
   "source": [
    "#Utilizando list comprehension para vetorizar a função\n",
    "[calculo(x) for x in array1]\n"
   ]
  },
  {
   "cell_type": "code",
   "execution_count": 11,
   "metadata": {},
   "outputs": [
    {
     "name": "stdout",
     "output_type": "stream",
     "text": [
      "14.9 µs ± 495 ns per loop (mean ± std. dev. of 7 runs, 100000 loops each)\n",
      "37.6 µs ± 951 ns per loop (mean ± std. dev. of 7 runs, 10000 loops each)\n",
      "14.5 µs ± 654 ns per loop (mean ± std. dev. of 7 runs, 100000 loops each)\n"
     ]
    }
   ],
   "source": [
    "%timeit [calculo(x) for x in array1] #list comprehension\n",
    "%timeit vector(array1) #vectorize\n",
    "%timeit list(map(calculo, array1)) #map"
   ]
  },
  {
   "cell_type": "code",
   "execution_count": 12,
   "metadata": {},
   "outputs": [],
   "source": [
    "array2 = np.random.randint(0, 100, 20 * 1000)"
   ]
  },
  {
   "cell_type": "code",
   "execution_count": 14,
   "metadata": {},
   "outputs": [
    {
     "name": "stdout",
     "output_type": "stream",
     "text": [
      "12.1 ms ± 164 µs per loop (mean ± std. dev. of 7 runs, 100 loops each)\n",
      "9.87 ms ± 127 µs per loop (mean ± std. dev. of 7 runs, 100 loops each)\n",
      "11.3 ms ± 185 µs per loop (mean ± std. dev. of 7 runs, 100 loops each)\n"
     ]
    }
   ],
   "source": [
    "%timeit [calculo(x) for x in array2] #list comprehension\n",
    "%timeit vector(array2) #vectorize\n",
    "%timeit list(map(calculo, array2)) #map"
   ]
  }
 ],
 "metadata": {
  "interpreter": {
   "hash": "97ae724bfa85b9b34df7982b8bb8c7216f435b92902d749e4263f71162bea840"
  },
  "kernelspec": {
   "display_name": "Python 3.9.7 ('base')",
   "language": "python",
   "name": "python3"
  },
  "language_info": {
   "codemirror_mode": {
    "name": "ipython",
    "version": 3
   },
   "file_extension": ".py",
   "mimetype": "text/x-python",
   "name": "python",
   "nbconvert_exporter": "python",
   "pygments_lexer": "ipython3",
   "version": "3.9.7"
  },
  "orig_nbformat": 4
 },
 "nbformat": 4,
 "nbformat_minor": 2
}
