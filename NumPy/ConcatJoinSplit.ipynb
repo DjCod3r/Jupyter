{
 "cells": [
  {
   "cell_type": "code",
   "execution_count": 1,
   "metadata": {},
   "outputs": [],
   "source": [
    "import sys\n",
    "import numpy as np\n",
    "\n"
   ]
  },
  {
   "cell_type": "markdown",
   "metadata": {},
   "source": [
    "### Concatenação com NumPy"
   ]
  },
  {
   "cell_type": "code",
   "execution_count": 2,
   "metadata": {},
   "outputs": [
    {
     "data": {
      "text/plain": [
       "array([1., 1., 1., 1.])"
      ]
     },
     "execution_count": 2,
     "metadata": {},
     "output_type": "execute_result"
    }
   ],
   "source": [
    "vetor = np.ones(4)\n",
    "vetor"
   ]
  },
  {
   "cell_type": "code",
   "execution_count": 3,
   "metadata": {},
   "outputs": [
    {
     "data": {
      "text/plain": [
       "array([ 0,  1,  2,  3,  4,  5,  6,  7,  8,  9, 10, 11, 12, 13, 14])"
      ]
     },
     "execution_count": 3,
     "metadata": {},
     "output_type": "execute_result"
    }
   ],
   "source": [
    "vetor2 = np.arange(15)\n",
    "vetor2"
   ]
  },
  {
   "cell_type": "code",
   "execution_count": 4,
   "metadata": {},
   "outputs": [
    {
     "data": {
      "text/plain": [
       "array([ 1.,  1.,  1.,  1.,  0.,  1.,  2.,  3.,  4.,  5.,  6.,  7.,  8.,\n",
       "        9., 10., 11., 12., 13., 14.])"
      ]
     },
     "execution_count": 4,
     "metadata": {},
     "output_type": "execute_result"
    }
   ],
   "source": [
    "# Concatenar vetores\n",
    "vetor3 = np.concatenate((vetor, vetor2))\n",
    "vetor3"
   ]
  },
  {
   "cell_type": "markdown",
   "metadata": {},
   "source": [
    "### Join"
   ]
  },
  {
   "cell_type": "code",
   "execution_count": 5,
   "metadata": {},
   "outputs": [],
   "source": [
    "#Criar array com numpy de 4 por 4\n",
    "vetor4 = np.zeros((4,4))\n",
    "#Criar array com numpy de 4 por 4\n",
    "vetor5 = np.ones((4,4))\n",
    "\n"
   ]
  },
  {
   "cell_type": "code",
   "execution_count": 6,
   "metadata": {},
   "outputs": [
    {
     "name": "stdout",
     "output_type": "stream",
     "text": [
      "[[0. 0. 0. 0.]\n",
      " [0. 0. 0. 0.]\n",
      " [0. 0. 0. 0.]\n",
      " [0. 0. 0. 0.]]\n"
     ]
    }
   ],
   "source": [
    "print(vetor4)"
   ]
  },
  {
   "cell_type": "code",
   "execution_count": 7,
   "metadata": {},
   "outputs": [
    {
     "name": "stdout",
     "output_type": "stream",
     "text": [
      "[[1. 1. 1. 1.]\n",
      " [1. 1. 1. 1.]\n",
      " [1. 1. 1. 1.]\n",
      " [1. 1. 1. 1.]]\n"
     ]
    }
   ],
   "source": [
    "print(vetor5)"
   ]
  },
  {
   "cell_type": "code",
   "execution_count": 8,
   "metadata": {},
   "outputs": [
    {
     "name": "stdout",
     "output_type": "stream",
     "text": [
      "\u001b[1;31mSignature:\u001b[0m \u001b[0mnp\u001b[0m\u001b[1;33m.\u001b[0m\u001b[0mvstack\u001b[0m\u001b[1;33m(\u001b[0m\u001b[0mtup\u001b[0m\u001b[1;33m)\u001b[0m\u001b[1;33m\u001b[0m\u001b[1;33m\u001b[0m\u001b[0m\n",
      "\u001b[1;31mDocstring:\u001b[0m\n",
      "Stack arrays in sequence vertically (row wise).\n",
      "\n",
      "This is equivalent to concatenation along the first axis after 1-D arrays\n",
      "of shape `(N,)` have been reshaped to `(1,N)`. Rebuilds arrays divided by\n",
      "`vsplit`.\n",
      "\n",
      "This function makes most sense for arrays with up to 3 dimensions. For\n",
      "instance, for pixel-data with a height (first axis), width (second axis),\n",
      "and r/g/b channels (third axis). The functions `concatenate`, `stack` and\n",
      "`block` provide more general stacking and concatenation operations.\n",
      "\n",
      "Parameters\n",
      "----------\n",
      "tup : sequence of ndarrays\n",
      "    The arrays must have the same shape along all but the first axis.\n",
      "    1-D arrays must have the same length.\n",
      "\n",
      "Returns\n",
      "-------\n",
      "stacked : ndarray\n",
      "    The array formed by stacking the given arrays, will be at least 2-D.\n",
      "\n",
      "See Also\n",
      "--------\n",
      "concatenate : Join a sequence of arrays along an existing axis.\n",
      "stack : Join a sequence of arrays along a new axis.\n",
      "block : Assemble an nd-array from nested lists of blocks.\n",
      "hstack : Stack arrays in sequence horizontally (column wise).\n",
      "dstack : Stack arrays in sequence depth wise (along third axis).\n",
      "column_stack : Stack 1-D arrays as columns into a 2-D array.\n",
      "vsplit : Split an array into multiple sub-arrays vertically (row-wise).\n",
      "\n",
      "Examples\n",
      "--------\n",
      ">>> a = np.array([1, 2, 3])\n",
      ">>> b = np.array([2, 3, 4])\n",
      ">>> np.vstack((a,b))\n",
      "array([[1, 2, 3],\n",
      "       [2, 3, 4]])\n",
      "\n",
      ">>> a = np.array([[1], [2], [3]])\n",
      ">>> b = np.array([[2], [3], [4]])\n",
      ">>> np.vstack((a,b))\n",
      "array([[1],\n",
      "       [2],\n",
      "       [3],\n",
      "       [2],\n",
      "       [3],\n",
      "       [4]])\n",
      "\u001b[1;31mFile:\u001b[0m      c:\\anaconda3\\lib\\site-packages\\numpy\\core\\shape_base.py\n",
      "\u001b[1;31mType:\u001b[0m      function\n"
     ]
    }
   ],
   "source": [
    "?np.vstack"
   ]
  },
  {
   "cell_type": "code",
   "execution_count": 9,
   "metadata": {},
   "outputs": [
    {
     "data": {
      "text/plain": [
       "(8, 4)"
      ]
     },
     "execution_count": 9,
     "metadata": {},
     "output_type": "execute_result"
    }
   ],
   "source": [
    "matrizVertical = np.vstack((vetor4, vetor5)) #preenchendo primeiro as linhas\n",
    "matrizVertical.shape"
   ]
  },
  {
   "cell_type": "code",
   "execution_count": 10,
   "metadata": {},
   "outputs": [
    {
     "name": "stdout",
     "output_type": "stream",
     "text": [
      "[[0. 0. 0. 0.]\n",
      " [0. 0. 0. 0.]\n",
      " [0. 0. 0. 0.]\n",
      " [0. 0. 0. 0.]\n",
      " [1. 1. 1. 1.]\n",
      " [1. 1. 1. 1.]\n",
      " [1. 1. 1. 1.]\n",
      " [1. 1. 1. 1.]]\n"
     ]
    }
   ],
   "source": [
    "print(matrizVertical)"
   ]
  },
  {
   "cell_type": "code",
   "execution_count": 11,
   "metadata": {},
   "outputs": [
    {
     "data": {
      "text/plain": [
       "(4, 8)"
      ]
     },
     "execution_count": 11,
     "metadata": {},
     "output_type": "execute_result"
    }
   ],
   "source": [
    "matrizHorizontal = np.hstack((vetor4, vetor5)) #preenchendo primeiro as colunas\n",
    "matrizHorizontal.shape"
   ]
  },
  {
   "cell_type": "code",
   "execution_count": 12,
   "metadata": {},
   "outputs": [
    {
     "name": "stdout",
     "output_type": "stream",
     "text": [
      "[[0. 0. 0. 0. 1. 1. 1. 1.]\n",
      " [0. 0. 0. 0. 1. 1. 1. 1.]\n",
      " [0. 0. 0. 0. 1. 1. 1. 1.]\n",
      " [0. 0. 0. 0. 1. 1. 1. 1.]]\n"
     ]
    }
   ],
   "source": [
    "print(matrizHorizontal)"
   ]
  },
  {
   "cell_type": "code",
   "execution_count": 13,
   "metadata": {},
   "outputs": [],
   "source": [
    "a = np.array([1,2,3])\n",
    "b = np.array([4,5,6])\n",
    "c = np.array([7,8,9])"
   ]
  },
  {
   "cell_type": "code",
   "execution_count": 14,
   "metadata": {},
   "outputs": [
    {
     "data": {
      "text/plain": [
       "array([[1, 2, 3],\n",
       "       [4, 5, 6],\n",
       "       [7, 8, 9]])"
      ]
     },
     "execution_count": 14,
     "metadata": {},
     "output_type": "execute_result"
    }
   ],
   "source": [
    "matrizABC = np.vstack((a,b,c)) #preenchendo primeiro as linhas\n",
    "matrizABC"
   ]
  },
  {
   "cell_type": "code",
   "execution_count": 15,
   "metadata": {},
   "outputs": [
    {
     "name": "stdout",
     "output_type": "stream",
     "text": [
      "\u001b[1;31mSignature:\u001b[0m \u001b[0mnp\u001b[0m\u001b[1;33m.\u001b[0m\u001b[0mcolumn_stack\u001b[0m\u001b[1;33m(\u001b[0m\u001b[0mtup\u001b[0m\u001b[1;33m)\u001b[0m\u001b[1;33m\u001b[0m\u001b[1;33m\u001b[0m\u001b[0m\n",
      "\u001b[1;31mDocstring:\u001b[0m\n",
      "Stack 1-D arrays as columns into a 2-D array.\n",
      "\n",
      "Take a sequence of 1-D arrays and stack them as columns\n",
      "to make a single 2-D array. 2-D arrays are stacked as-is,\n",
      "just like with `hstack`.  1-D arrays are turned into 2-D columns\n",
      "first.\n",
      "\n",
      "Parameters\n",
      "----------\n",
      "tup : sequence of 1-D or 2-D arrays.\n",
      "    Arrays to stack. All of them must have the same first dimension.\n",
      "\n",
      "Returns\n",
      "-------\n",
      "stacked : 2-D array\n",
      "    The array formed by stacking the given arrays.\n",
      "\n",
      "See Also\n",
      "--------\n",
      "stack, hstack, vstack, concatenate\n",
      "\n",
      "Examples\n",
      "--------\n",
      ">>> a = np.array((1,2,3))\n",
      ">>> b = np.array((2,3,4))\n",
      ">>> np.column_stack((a,b))\n",
      "array([[1, 2],\n",
      "       [2, 3],\n",
      "       [3, 4]])\n",
      "\u001b[1;31mFile:\u001b[0m      c:\\anaconda3\\lib\\site-packages\\numpy\\lib\\shape_base.py\n",
      "\u001b[1;31mType:\u001b[0m      function\n"
     ]
    }
   ],
   "source": [
    "?np.column_stack"
   ]
  },
  {
   "cell_type": "code",
   "execution_count": 16,
   "metadata": {},
   "outputs": [
    {
     "data": {
      "text/plain": [
       "array([[1, 4, 7],\n",
       "       [2, 5, 8],\n",
       "       [3, 6, 9]])"
      ]
     },
     "execution_count": 16,
     "metadata": {},
     "output_type": "execute_result"
    }
   ],
   "source": [
    "matrizABC = np.column_stack((a,b,c)) #preenchendo primeiro as colunas a cada join nova coluna\n",
    "matrizABC"
   ]
  },
  {
   "cell_type": "code",
   "execution_count": 17,
   "metadata": {},
   "outputs": [
    {
     "name": "stdout",
     "output_type": "stream",
     "text": [
      "\u001b[1;31mSignature:\u001b[0m \u001b[0mnp\u001b[0m\u001b[1;33m.\u001b[0m\u001b[0mrow_stack\u001b[0m\u001b[1;33m(\u001b[0m\u001b[0mtup\u001b[0m\u001b[1;33m)\u001b[0m\u001b[1;33m\u001b[0m\u001b[1;33m\u001b[0m\u001b[0m\n",
      "\u001b[1;31mDocstring:\u001b[0m\n",
      "Stack arrays in sequence vertically (row wise).\n",
      "\n",
      "This is equivalent to concatenation along the first axis after 1-D arrays\n",
      "of shape `(N,)` have been reshaped to `(1,N)`. Rebuilds arrays divided by\n",
      "`vsplit`.\n",
      "\n",
      "This function makes most sense for arrays with up to 3 dimensions. For\n",
      "instance, for pixel-data with a height (first axis), width (second axis),\n",
      "and r/g/b channels (third axis). The functions `concatenate`, `stack` and\n",
      "`block` provide more general stacking and concatenation operations.\n",
      "\n",
      "Parameters\n",
      "----------\n",
      "tup : sequence of ndarrays\n",
      "    The arrays must have the same shape along all but the first axis.\n",
      "    1-D arrays must have the same length.\n",
      "\n",
      "Returns\n",
      "-------\n",
      "stacked : ndarray\n",
      "    The array formed by stacking the given arrays, will be at least 2-D.\n",
      "\n",
      "See Also\n",
      "--------\n",
      "concatenate : Join a sequence of arrays along an existing axis.\n",
      "stack : Join a sequence of arrays along a new axis.\n",
      "block : Assemble an nd-array from nested lists of blocks.\n",
      "hstack : Stack arrays in sequence horizontally (column wise).\n",
      "dstack : Stack arrays in sequence depth wise (along third axis).\n",
      "column_stack : Stack 1-D arrays as columns into a 2-D array.\n",
      "vsplit : Split an array into multiple sub-arrays vertically (row-wise).\n",
      "\n",
      "Examples\n",
      "--------\n",
      ">>> a = np.array([1, 2, 3])\n",
      ">>> b = np.array([2, 3, 4])\n",
      ">>> np.vstack((a,b))\n",
      "array([[1, 2, 3],\n",
      "       [2, 3, 4]])\n",
      "\n",
      ">>> a = np.array([[1], [2], [3]])\n",
      ">>> b = np.array([[2], [3], [4]])\n",
      ">>> np.vstack((a,b))\n",
      "array([[1],\n",
      "       [2],\n",
      "       [3],\n",
      "       [2],\n",
      "       [3],\n",
      "       [4]])\n",
      "\u001b[1;31mFile:\u001b[0m      c:\\anaconda3\\lib\\site-packages\\numpy\\core\\shape_base.py\n",
      "\u001b[1;31mType:\u001b[0m      function\n"
     ]
    }
   ],
   "source": [
    "?np.row_stack"
   ]
  },
  {
   "cell_type": "code",
   "execution_count": 18,
   "metadata": {},
   "outputs": [
    {
     "data": {
      "text/plain": [
       "array([[1, 2, 3],\n",
       "       [4, 5, 6],\n",
       "       [7, 8, 9]])"
      ]
     },
     "execution_count": 18,
     "metadata": {},
     "output_type": "execute_result"
    }
   ],
   "source": [
    "matrizABC = np.row_stack((a,b,c)) #preenchendo primeiro as linhas a cada join nova linha\n",
    "matrizABC"
   ]
  },
  {
   "cell_type": "markdown",
   "metadata": {},
   "source": [
    "### Split"
   ]
  },
  {
   "cell_type": "code",
   "execution_count": 19,
   "metadata": {},
   "outputs": [
    {
     "data": {
      "text/plain": [
       "array([[ 0,  1,  2,  3],\n",
       "       [ 4,  5,  6,  7],\n",
       "       [ 8,  9, 10, 11],\n",
       "       [12, 13, 14, 15]])"
      ]
     },
     "execution_count": 19,
     "metadata": {},
     "output_type": "execute_result"
    }
   ],
   "source": [
    "#Criando array de 16 posições e modificando ele para 4x4\n",
    "array1 = np.arange(16).reshape(4,4); array1"
   ]
  },
  {
   "cell_type": "code",
   "execution_count": 20,
   "metadata": {},
   "outputs": [],
   "source": [
    "[array_p1 , array_p2] = np.hsplit(array1, 2) #divide verticalmente"
   ]
  },
  {
   "cell_type": "code",
   "execution_count": 25,
   "metadata": {},
   "outputs": [
    {
     "data": {
      "text/plain": [
       "array([[0, 1, 2, 3],\n",
       "       [4, 5, 6, 7]])"
      ]
     },
     "execution_count": 25,
     "metadata": {},
     "output_type": "execute_result"
    }
   ],
   "source": [
    "array_p1"
   ]
  },
  {
   "cell_type": "code",
   "execution_count": 22,
   "metadata": {},
   "outputs": [
    {
     "data": {
      "text/plain": [
       "array([[ 2,  3],\n",
       "       [ 6,  7],\n",
       "       [10, 11],\n",
       "       [14, 15]])"
      ]
     },
     "execution_count": 22,
     "metadata": {},
     "output_type": "execute_result"
    }
   ],
   "source": [
    "array_p2"
   ]
  },
  {
   "cell_type": "code",
   "execution_count": 26,
   "metadata": {},
   "outputs": [],
   "source": [
    "[array_p1 , array_p2] = np.vsplit(array1, 2) #divide horizontalmente"
   ]
  },
  {
   "cell_type": "code",
   "execution_count": 28,
   "metadata": {},
   "outputs": [
    {
     "data": {
      "text/plain": [
       "array([[0, 1, 2, 3],\n",
       "       [4, 5, 6, 7]])"
      ]
     },
     "execution_count": 28,
     "metadata": {},
     "output_type": "execute_result"
    }
   ],
   "source": [
    "array_p1"
   ]
  },
  {
   "cell_type": "code",
   "execution_count": 29,
   "metadata": {},
   "outputs": [
    {
     "data": {
      "text/plain": [
       "array([[ 8,  9, 10, 11],\n",
       "       [12, 13, 14, 15]])"
      ]
     },
     "execution_count": 29,
     "metadata": {},
     "output_type": "execute_result"
    }
   ],
   "source": [
    "array_p2"
   ]
  }
 ],
 "metadata": {
  "kernelspec": {
   "display_name": "Python 3 (ipykernel)",
   "language": "python",
   "name": "python3"
  },
  "language_info": {
   "codemirror_mode": {
    "name": "ipython",
    "version": 3
   },
   "file_extension": ".py",
   "mimetype": "text/x-python",
   "name": "python",
   "nbconvert_exporter": "python",
   "pygments_lexer": "ipython3",
   "version": "3.9.7"
  },
  "orig_nbformat": 4
 },
 "nbformat": 4,
 "nbformat_minor": 2
}
