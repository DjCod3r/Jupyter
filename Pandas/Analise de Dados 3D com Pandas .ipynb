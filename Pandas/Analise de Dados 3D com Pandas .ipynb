{
 "cells": [
  {
   "cell_type": "code",
   "execution_count": 18,
   "id": "34b79cab",
   "metadata": {},
   "outputs": [],
   "source": [
    "import pandas as pd\n",
    "import numpy as np\n"
   ]
  },
  {
   "cell_type": "code",
   "execution_count": 2,
   "id": "5985a096",
   "metadata": {},
   "outputs": [],
   "source": [
    "stockData = np.array([[[63.03,61.48,75],\n",
    "                     [62.05,62.75,46],\n",
    "                     [62.74,62.19,53]],\n",
    "                   [[411.90, 404.38, 2.9],\n",
    "                    [405.45, 405.91, 2.6],\n",
    "                    [403.15, 404.42, 2.4]]])"
   ]
  },
  {
   "cell_type": "code",
   "execution_count": 3,
   "id": "97483812",
   "metadata": {},
   "outputs": [
    {
     "data": {
      "text/plain": [
       "array([[[ 63.03,  61.48,  75.  ],\n",
       "        [ 62.05,  62.75,  46.  ],\n",
       "        [ 62.74,  62.19,  53.  ]],\n",
       "\n",
       "       [[411.9 , 404.38,   2.9 ],\n",
       "        [405.45, 405.91,   2.6 ],\n",
       "        [403.15, 404.42,   2.4 ]]])"
      ]
     },
     "execution_count": 3,
     "metadata": {},
     "output_type": "execute_result"
    }
   ],
   "source": [
    "stockData"
   ]
  },
  {
   "cell_type": "code",
   "execution_count": 4,
   "id": "109451bc",
   "metadata": {},
   "outputs": [
    {
     "data": {
      "text/plain": [
       "numpy.ndarray"
      ]
     },
     "execution_count": 4,
     "metadata": {},
     "output_type": "execute_result"
    }
   ],
   "source": [
    "type(stockData)"
   ]
  },
  {
   "cell_type": "code",
   "execution_count": null,
   "id": "ce291f1d",
   "metadata": {},
   "outputs": [],
   "source": [
    "stockHistoricalPrices = pd.Panel(stockData,\n",
    "                                items =['FB','NFLX'],\n",
    "                                major_axis = pd.date_range('2/3/2016', periods = 3),\n",
    "                                minor_axis = ['open price' , 'closing price', 'volume'])"
   ]
  },
  {
   "cell_type": "code",
   "execution_count": 5,
   "id": "cdcd8440",
   "metadata": {},
   "outputs": [],
   "source": [
    "#Criação data Frame\n",
    "USData = pd.DataFrame(np.array([[249.62 , 8900],\n",
    "                              [282.16,12680],\n",
    "                              [309.35,14940]]),\n",
    "                      columns = ['População(M)','PIB($B)'],\n",
    "                      index = [1995,2005,2015])"
   ]
  },
  {
   "cell_type": "code",
   "execution_count": 6,
   "id": "95e582b4",
   "metadata": {},
   "outputs": [
    {
     "data": {
      "text/html": [
       "<div>\n",
       "<style scoped>\n",
       "    .dataframe tbody tr th:only-of-type {\n",
       "        vertical-align: middle;\n",
       "    }\n",
       "\n",
       "    .dataframe tbody tr th {\n",
       "        vertical-align: top;\n",
       "    }\n",
       "\n",
       "    .dataframe thead th {\n",
       "        text-align: right;\n",
       "    }\n",
       "</style>\n",
       "<table border=\"1\" class=\"dataframe\">\n",
       "  <thead>\n",
       "    <tr style=\"text-align: right;\">\n",
       "      <th></th>\n",
       "      <th>População(M)</th>\n",
       "      <th>PIB($B)</th>\n",
       "    </tr>\n",
       "  </thead>\n",
       "  <tbody>\n",
       "    <tr>\n",
       "      <th>1995</th>\n",
       "      <td>249.62</td>\n",
       "      <td>8900.0</td>\n",
       "    </tr>\n",
       "    <tr>\n",
       "      <th>2005</th>\n",
       "      <td>282.16</td>\n",
       "      <td>12680.0</td>\n",
       "    </tr>\n",
       "    <tr>\n",
       "      <th>2015</th>\n",
       "      <td>309.35</td>\n",
       "      <td>14940.0</td>\n",
       "    </tr>\n",
       "  </tbody>\n",
       "</table>\n",
       "</div>"
      ],
      "text/plain": [
       "      População(M)  PIB($B)\n",
       "1995        249.62   8900.0\n",
       "2005        282.16  12680.0\n",
       "2015        309.35  14940.0"
      ]
     },
     "execution_count": 6,
     "metadata": {},
     "output_type": "execute_result"
    }
   ],
   "source": [
    "USData"
   ]
  },
  {
   "cell_type": "code",
   "execution_count": 9,
   "id": "40345c9c",
   "metadata": {},
   "outputs": [],
   "source": [
    "#Criação DataFrame\n",
    "ChinaData = pd.DataFrame(np.array([[1133, 390],\n",
    "                                [1250 , 1400],\n",
    "                                [1600 , 1500]]),\n",
    "                        columns= ['População(M)','PIB($B)'],\n",
    "                        index = [1995,2005,2015])\n",
    "                        "
   ]
  },
  {
   "cell_type": "code",
   "execution_count": 10,
   "id": "9dcbba19",
   "metadata": {},
   "outputs": [
    {
     "data": {
      "text/html": [
       "<div>\n",
       "<style scoped>\n",
       "    .dataframe tbody tr th:only-of-type {\n",
       "        vertical-align: middle;\n",
       "    }\n",
       "\n",
       "    .dataframe tbody tr th {\n",
       "        vertical-align: top;\n",
       "    }\n",
       "\n",
       "    .dataframe thead th {\n",
       "        text-align: right;\n",
       "    }\n",
       "</style>\n",
       "<table border=\"1\" class=\"dataframe\">\n",
       "  <thead>\n",
       "    <tr style=\"text-align: right;\">\n",
       "      <th></th>\n",
       "      <th>População(M)</th>\n",
       "      <th>PIB($B)</th>\n",
       "    </tr>\n",
       "  </thead>\n",
       "  <tbody>\n",
       "    <tr>\n",
       "      <th>1995</th>\n",
       "      <td>1133</td>\n",
       "      <td>390</td>\n",
       "    </tr>\n",
       "    <tr>\n",
       "      <th>2005</th>\n",
       "      <td>1250</td>\n",
       "      <td>1400</td>\n",
       "    </tr>\n",
       "    <tr>\n",
       "      <th>2015</th>\n",
       "      <td>1600</td>\n",
       "      <td>1500</td>\n",
       "    </tr>\n",
       "  </tbody>\n",
       "</table>\n",
       "</div>"
      ],
      "text/plain": [
       "      População(M)  PIB($B)\n",
       "1995          1133      390\n",
       "2005          1250     1400\n",
       "2015          1600     1500"
      ]
     },
     "execution_count": 10,
     "metadata": {},
     "output_type": "execute_result"
    }
   ],
   "source": [
    "ChinaData"
   ]
  },
  {
   "cell_type": "code",
   "execution_count": 11,
   "id": "e20f5636",
   "metadata": {},
   "outputs": [],
   "source": [
    "#Concatenar os 2 DataFrames\n",
    "US_ChinaData = {'US': USData,\n",
    "               'China': ChinaData}"
   ]
  },
  {
   "cell_type": "code",
   "execution_count": 12,
   "id": "51515ae4",
   "metadata": {},
   "outputs": [
    {
     "data": {
      "text/plain": [
       "{'US':       População(M)  PIB($B)\n",
       " 1995        249.62   8900.0\n",
       " 2005        282.16  12680.0\n",
       " 2015        309.35  14940.0,\n",
       " 'China':       População(M)  PIB($B)\n",
       " 1995          1133      390\n",
       " 2005          1250     1400\n",
       " 2015          1600     1500}"
      ]
     },
     "execution_count": 12,
     "metadata": {},
     "output_type": "execute_result"
    }
   ],
   "source": [
    "US_ChinaData"
   ]
  },
  {
   "cell_type": "code",
   "execution_count": null,
   "id": "e577950f",
   "metadata": {},
   "outputs": [],
   "source": []
  },
  {
   "cell_type": "code",
   "execution_count": null,
   "id": "044c9d0e",
   "metadata": {},
   "outputs": [],
   "source": []
  },
  {
   "cell_type": "code",
   "execution_count": null,
   "id": "da252593",
   "metadata": {},
   "outputs": [],
   "source": []
  }
 ],
 "metadata": {
  "kernelspec": {
   "display_name": "Python 3 (ipykernel)",
   "language": "python",
   "name": "python3"
  },
  "language_info": {
   "codemirror_mode": {
    "name": "ipython",
    "version": 3
   },
   "file_extension": ".py",
   "mimetype": "text/x-python",
   "name": "python",
   "nbconvert_exporter": "python",
   "pygments_lexer": "ipython3",
   "version": "3.9.7"
  }
 },
 "nbformat": 4,
 "nbformat_minor": 5
}
