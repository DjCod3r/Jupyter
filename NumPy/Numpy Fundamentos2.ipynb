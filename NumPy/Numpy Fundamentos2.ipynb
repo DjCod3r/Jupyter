{
 "cells": [
  {
   "cell_type": "code",
   "execution_count": 1,
   "id": "64b19e7e",
   "metadata": {},
   "outputs": [],
   "source": [
    "#importar NUMPY\n",
    "import numpy as np"
   ]
  },
  {
   "cell_type": "code",
   "execution_count": 2,
   "id": "d0f52e1e",
   "metadata": {},
   "outputs": [],
   "source": [
    "#criar array de uma dimensão com NP\n",
    "arrayUnidimencional = np.array([10, 20 , 40 , 50, 2])"
   ]
  },
  {
   "cell_type": "code",
   "execution_count": 3,
   "id": "0611a71a",
   "metadata": {},
   "outputs": [],
   "source": [
    "#array de 2 dimensões\n",
    "arrayBidimencional = np.array([[20 , 10 , 20], [15, 25 , 15]])"
   ]
  },
  {
   "cell_type": "code",
   "execution_count": 4,
   "id": "ba7af827",
   "metadata": {},
   "outputs": [
    {
     "data": {
      "text/plain": [
       "array([10, 20, 40, 50,  2])"
      ]
     },
     "execution_count": 4,
     "metadata": {},
     "output_type": "execute_result"
    }
   ],
   "source": [
    "#Verificação \n",
    "arrayUnidimencional"
   ]
  },
  {
   "cell_type": "code",
   "execution_count": 5,
   "id": "182deaf9",
   "metadata": {},
   "outputs": [
    {
     "data": {
      "text/plain": [
       "array([[20, 10, 20],\n",
       "       [15, 25, 15]])"
      ]
     },
     "execution_count": 5,
     "metadata": {},
     "output_type": "execute_result"
    }
   ],
   "source": [
    "arrayBidimencional"
   ]
  },
  {
   "cell_type": "code",
   "execution_count": 6,
   "id": "66cc7fcf",
   "metadata": {},
   "outputs": [
    {
     "data": {
      "text/plain": [
       "(5,)"
      ]
     },
     "execution_count": 6,
     "metadata": {},
     "output_type": "execute_result"
    }
   ],
   "source": [
    "#Shape mostra a quantidade de indices e formato\n",
    "arrayUnidimencional.shape"
   ]
  },
  {
   "cell_type": "code",
   "execution_count": 7,
   "id": "fe51b551",
   "metadata": {},
   "outputs": [
    {
     "data": {
      "text/plain": [
       "(2, 3)"
      ]
     },
     "execution_count": 7,
     "metadata": {},
     "output_type": "execute_result"
    }
   ],
   "source": [
    "arrayBidimencional.shape"
   ]
  },
  {
   "cell_type": "code",
   "execution_count": 8,
   "id": "fa926d2a",
   "metadata": {},
   "outputs": [
    {
     "data": {
      "text/plain": [
       "2"
      ]
     },
     "execution_count": 8,
     "metadata": {},
     "output_type": "execute_result"
    }
   ],
   "source": [
    "#verificar quantas dimenções existem\n",
    "arrayBidimencional.ndim"
   ]
  },
  {
   "cell_type": "code",
   "execution_count": 9,
   "id": "2a693765",
   "metadata": {},
   "outputs": [],
   "source": [
    "#arange cria uma estrutura de dados\n",
    "arranjo = np.arange(10)"
   ]
  },
  {
   "cell_type": "code",
   "execution_count": 10,
   "id": "1a352ad9",
   "metadata": {},
   "outputs": [
    {
     "data": {
      "text/plain": [
       "array([0, 1, 2, 3, 4, 5, 6, 7, 8, 9])"
      ]
     },
     "execution_count": 10,
     "metadata": {},
     "output_type": "execute_result"
    }
   ],
   "source": [
    "arranjo"
   ]
  },
  {
   "cell_type": "code",
   "execution_count": 11,
   "id": "2c3e6aca",
   "metadata": {},
   "outputs": [],
   "source": [
    "#começa em 0 vai até o valor 50 e pula de 10 em 10\n",
    "arranjoT = np.arange (1, 50 , 10)"
   ]
  },
  {
   "cell_type": "code",
   "execution_count": 12,
   "id": "16004b24",
   "metadata": {},
   "outputs": [
    {
     "data": {
      "text/plain": [
       "array([ 1, 11, 21, 31, 41])"
      ]
     },
     "execution_count": 12,
     "metadata": {},
     "output_type": "execute_result"
    }
   ],
   "source": [
    "arranjoT"
   ]
  },
  {
   "cell_type": "code",
   "execution_count": 13,
   "id": "284a9e83",
   "metadata": {},
   "outputs": [
    {
     "data": {
      "text/plain": [
       "array([0., 1., 2., 3., 4., 5., 6.])"
      ]
     },
     "execution_count": 13,
     "metadata": {},
     "output_type": "execute_result"
    }
   ],
   "source": [
    "#Criar estruturas de dados utilizando Linspace (Começo , fim , numero de indices)\n",
    "arrayLinspace = np.linspace(0 , 6 , 7) ; arrayLinspace # <- executar diretamente"
   ]
  },
  {
   "cell_type": "code",
   "execution_count": 19,
   "id": "ea949ba0",
   "metadata": {},
   "outputs": [
    {
     "data": {
      "text/plain": [
       "array([[1., 1., 1., 1., 1., 1., 1., 1., 1., 1.],\n",
       "       [1., 1., 1., 1., 1., 1., 1., 1., 1., 1.],\n",
       "       [1., 1., 1., 1., 1., 1., 1., 1., 1., 1.],\n",
       "       [1., 1., 1., 1., 1., 1., 1., 1., 1., 1.],\n",
       "       [1., 1., 1., 1., 1., 1., 1., 1., 1., 1.],\n",
       "       [1., 1., 1., 1., 1., 1., 1., 1., 1., 1.],\n",
       "       [1., 1., 1., 1., 1., 1., 1., 1., 1., 1.],\n",
       "       [1., 1., 1., 1., 1., 1., 1., 1., 1., 1.],\n",
       "       [1., 1., 1., 1., 1., 1., 1., 1., 1., 1.],\n",
       "       [1., 1., 1., 1., 1., 1., 1., 1., 1., 1.],\n",
       "       [1., 1., 1., 1., 1., 1., 1., 1., 1., 1.],\n",
       "       [1., 1., 1., 1., 1., 1., 1., 1., 1., 1.],\n",
       "       [1., 1., 1., 1., 1., 1., 1., 1., 1., 1.],\n",
       "       [1., 1., 1., 1., 1., 1., 1., 1., 1., 1.],\n",
       "       [1., 1., 1., 1., 1., 1., 1., 1., 1., 1.],\n",
       "       [1., 1., 1., 1., 1., 1., 1., 1., 1., 1.],\n",
       "       [1., 1., 1., 1., 1., 1., 1., 1., 1., 1.],\n",
       "       [1., 1., 1., 1., 1., 1., 1., 1., 1., 1.],\n",
       "       [1., 1., 1., 1., 1., 1., 1., 1., 1., 1.],\n",
       "       [1., 1., 1., 1., 1., 1., 1., 1., 1., 1.]])"
      ]
     },
     "execution_count": 19,
     "metadata": {},
     "output_type": "execute_result"
    }
   ],
   "source": [
    "#Criando matrizes com Numpy\n",
    "matriz = np.ones((20 ,10)) ;matriz"
   ]
  },
  {
   "cell_type": "code",
   "execution_count": 45,
   "id": "fbdec404",
   "metadata": {},
   "outputs": [
    {
     "data": {
      "text/plain": [
       "array([[[0., 0., 0.],\n",
       "        [0., 0., 0.],\n",
       "        [0., 0., 0.]],\n",
       "\n",
       "       [[0., 0., 0.],\n",
       "        [0., 0., 0.],\n",
       "        [0., 0., 0.]],\n",
       "\n",
       "       [[0., 0., 0.],\n",
       "        [0., 0., 0.],\n",
       "        [0., 0., 0.]]])"
      ]
     },
     "execution_count": 45,
     "metadata": {},
     "output_type": "execute_result"
    }
   ],
   "source": [
    "#tres dimenções de 0\n",
    "matrizT = np.zeros((3,3,3)) ;matrizT"
   ]
  },
  {
   "cell_type": "code",
   "execution_count": 47,
   "id": "0835d68c",
   "metadata": {},
   "outputs": [
    {
     "data": {
      "text/plain": [
       "array([[1., 0., 0., 0.],\n",
       "       [0., 1., 0., 0.],\n",
       "       [0., 0., 1., 0.],\n",
       "       [0., 0., 0., 1.]])"
      ]
     },
     "execution_count": 47,
     "metadata": {},
     "output_type": "execute_result"
    }
   ],
   "source": [
    "#eye valor 1 em diagonal na matriz\n",
    "matrizDiagonal = np.eye(4) ;matrizDiagonal"
   ]
  },
  {
   "cell_type": "code",
   "execution_count": 21,
   "id": "db89a949",
   "metadata": {},
   "outputs": [
    {
     "data": {
      "text/plain": [
       "array([[2, 0, 0, 0, 0],\n",
       "       [0, 6, 0, 0, 0],\n",
       "       [0, 0, 4, 0, 0],\n",
       "       [0, 0, 0, 5, 0],\n",
       "       [0, 0, 0, 0, 8]])"
      ]
     },
     "execution_count": 21,
     "metadata": {},
     "output_type": "execute_result"
    }
   ],
   "source": [
    "#Diag faz com que podemos selecionar os valores\n",
    "matrizDiagonalValue = np.diag((2, 6, 4 , 5 , 8)) ;matrizDiagonalValue"
   ]
  },
  {
   "cell_type": "markdown",
   "id": "00b189d0",
   "metadata": {},
   "source": [
    "NUMPY.RANDOM.RAND"
   ]
  },
  {
   "cell_type": "code",
   "execution_count": 22,
   "id": "d639bc7b",
   "metadata": {},
   "outputs": [
    {
     "data": {
      "text/plain": [
       "array([0.54340494, 0.27836939, 0.42451759, 0.84477613, 0.00471886,\n",
       "       0.12156912])"
      ]
     },
     "execution_count": 22,
     "metadata": {},
     "output_type": "execute_result"
    }
   ],
   "source": [
    "#função rand(n) vai criar uma sequencia numérica de 0 a n\n",
    "np.random.seed(100)\n",
    "randomVet = np.random.rand(6) ;randomVet"
   ]
  },
  {
   "cell_type": "code",
   "execution_count": 23,
   "id": "6ce4a7cc",
   "metadata": {},
   "outputs": [
    {
     "data": {
      "text/plain": [
       "array([-1.74976547,  0.3426804 ,  1.1530358 , -0.25243604,  0.98132079,\n",
       "        0.51421884])"
      ]
     },
     "execution_count": 23,
     "metadata": {},
     "output_type": "execute_result"
    }
   ],
   "source": [
    "#função randn(n) vai criar uma sequencia de numeros com distribuição normal(gaussian)\n",
    "np.random.seed(100)\n",
    "randomVetn = np.random.randn(6) ;randomVetn"
   ]
  },
  {
   "cell_type": "code",
   "execution_count": 26,
   "id": "9c26e1d3",
   "metadata": {},
   "outputs": [
    {
     "data": {
      "text/plain": [
       "array([[1.74976547, 0.3426804 ],\n",
       "       [1.1530358 , 0.25243604],\n",
       "       [0.98132079, 0.51421884]])"
      ]
     },
     "execution_count": 26,
     "metadata": {},
     "output_type": "execute_result"
    }
   ],
   "source": [
    "T = np.empty((3,2)) ;T\n"
   ]
  },
  {
   "cell_type": "code",
   "execution_count": 30,
   "id": "1a943365",
   "metadata": {},
   "outputs": [
    {
     "data": {
      "text/plain": [
       "array([[1, 2],\n",
       "       [3, 4]])"
      ]
     },
     "execution_count": 30,
     "metadata": {},
     "output_type": "execute_result"
    }
   ],
   "source": [
    "#NumPy Tile\n",
    "np.array([[1, 2], [3,4]])"
   ]
  },
  {
   "cell_type": "code",
   "execution_count": 34,
   "id": "b9f5a063",
   "metadata": {},
   "outputs": [
    {
     "data": {
      "text/plain": [
       "array([[1, 2, 1, 2, 1, 2, 1, 2],\n",
       "       [3, 2, 3, 2, 3, 2, 3, 2]])"
      ]
     },
     "execution_count": 34,
     "metadata": {},
     "output_type": "execute_result"
    }
   ],
   "source": [
    "#multiplica horizontalmente\n",
    "np.tile(np.array([[1, 2], [3, 2]]), 4)"
   ]
  },
  {
   "cell_type": "code",
   "execution_count": 35,
   "id": "87685da1",
   "metadata": {},
   "outputs": [
    {
     "data": {
      "text/plain": [
       "array([[1, 2, 1, 2],\n",
       "       [3, 2, 3, 2],\n",
       "       [1, 2, 1, 2],\n",
       "       [3, 2, 3, 2]])"
      ]
     },
     "execution_count": 35,
     "metadata": {},
     "output_type": "execute_result"
    }
   ],
   "source": [
    "np.tile(np.array([[1, 2], [3, 2]]), (2,2))"
   ]
  },
  {
   "cell_type": "code",
   "execution_count": 36,
   "id": "aafa1b2d",
   "metadata": {},
   "outputs": [],
   "source": [
    "arrayTipe = np.array([8, 2, -5 , 3], dtype='float')"
   ]
  },
  {
   "cell_type": "code",
   "execution_count": 37,
   "id": "aee29261",
   "metadata": {},
   "outputs": [
    {
     "data": {
      "text/plain": [
       "array([ 8.,  2., -5.,  3.])"
      ]
     },
     "execution_count": 37,
     "metadata": {},
     "output_type": "execute_result"
    }
   ],
   "source": [
    "arrayTipe"
   ]
  },
  {
   "cell_type": "code",
   "execution_count": 38,
   "id": "8c090937",
   "metadata": {},
   "outputs": [
    {
     "data": {
      "text/plain": [
       "dtype('float64')"
      ]
     },
     "execution_count": 38,
     "metadata": {},
     "output_type": "execute_result"
    }
   ],
   "source": [
    "arrayTipe.dtype"
   ]
  },
  {
   "cell_type": "code",
   "execution_count": 39,
   "id": "e4a246dd",
   "metadata": {},
   "outputs": [],
   "source": [
    "array20 = np.array([2, 3 , 5.6 , -20])"
   ]
  },
  {
   "cell_type": "code",
   "execution_count": 40,
   "id": "f21c506b",
   "metadata": {},
   "outputs": [
    {
     "data": {
      "text/plain": [
       "dtype('float64')"
      ]
     },
     "execution_count": 40,
     "metadata": {},
     "output_type": "execute_result"
    }
   ],
   "source": [
    "array20.dtype"
   ]
  },
  {
   "cell_type": "code",
   "execution_count": 45,
   "id": "4d302aa9",
   "metadata": {},
   "outputs": [],
   "source": [
    "arrayS = np.array(['Analise' , 'de' , 'Dados'])"
   ]
  },
  {
   "cell_type": "code",
   "execution_count": 46,
   "id": "8fede707",
   "metadata": {},
   "outputs": [
    {
     "data": {
      "text/plain": [
       "dtype('<U7')"
      ]
     },
     "execution_count": 46,
     "metadata": {},
     "output_type": "execute_result"
    }
   ],
   "source": [
    "arrayS.dtype"
   ]
  },
  {
   "cell_type": "code",
   "execution_count": 47,
   "id": "e616e618",
   "metadata": {},
   "outputs": [],
   "source": [
    "arrayBool = np.array([True , False])"
   ]
  },
  {
   "cell_type": "code",
   "execution_count": 48,
   "id": "cc1d3729",
   "metadata": {},
   "outputs": [
    {
     "data": {
      "text/plain": [
       "dtype('bool')"
      ]
     },
     "execution_count": 48,
     "metadata": {},
     "output_type": "execute_result"
    }
   ],
   "source": [
    "arrayBool.dtype"
   ]
  },
  {
   "cell_type": "code",
   "execution_count": 50,
   "id": "ebc3064c",
   "metadata": {},
   "outputs": [
    {
     "data": {
      "text/plain": [
       "array([  2,   3,   5, -20])"
      ]
     },
     "execution_count": 50,
     "metadata": {},
     "output_type": "execute_result"
    }
   ],
   "source": [
    "#como se fosse INT\n",
    "array20.astype(int)"
   ]
  },
  {
   "cell_type": "code",
   "execution_count": 51,
   "id": "d2c9ee08",
   "metadata": {},
   "outputs": [],
   "source": [
    "#Operações Aritméticas com Arrays"
   ]
  },
  {
   "cell_type": "code",
   "execution_count": 54,
   "id": "660809ac",
   "metadata": {},
   "outputs": [
    {
     "data": {
      "text/plain": [
       "array([ 0,  5, 10, 15, 20, 25, 30, 35, 40, 45])"
      ]
     },
     "execution_count": 54,
     "metadata": {},
     "output_type": "execute_result"
    }
   ],
   "source": [
    "#criar array começando em 0 com 10 posições , a cada posição multiplica o valor base por 5 sendo o ultimo indice valor 9.\n",
    "array = np.arange(0,10) * 5 ;array"
   ]
  },
  {
   "cell_type": "code",
   "execution_count": 55,
   "id": "24eca853",
   "metadata": {},
   "outputs": [
    {
     "data": {
      "text/plain": [
       "array([0, 1, 2, 3, 4, 5, 6, 7, 8, 9])"
      ]
     },
     "execution_count": 55,
     "metadata": {},
     "output_type": "execute_result"
    }
   ],
   "source": [
    "array2 = np.arange(0, 10);array2"
   ]
  },
  {
   "cell_type": "code",
   "execution_count": 62,
   "id": "ddc98502",
   "metadata": {},
   "outputs": [
    {
     "data": {
      "text/plain": [
       "array([  0,   1,   8,  27,  64, 125, 216], dtype=int32)"
      ]
     },
     "execution_count": 62,
     "metadata": {},
     "output_type": "execute_result"
    }
   ],
   "source": [
    "#Elevar um Array de 5 posições na potencia 2\n",
    "arrayPot = np.arange(7) ** 3;arrayPot"
   ]
  },
  {
   "cell_type": "code",
   "execution_count": 63,
   "id": "59006a61",
   "metadata": {},
   "outputs": [
    {
     "data": {
      "text/plain": [
       "array([ 1,  2,  3,  4,  5,  6,  7,  8,  9, 10, 11, 12, 13, 14, 15, 16, 17,\n",
       "       18, 19, 20, 21, 22, 23, 24, 25, 26, 27, 28, 29, 30])"
      ]
     },
     "execution_count": 63,
     "metadata": {},
     "output_type": "execute_result"
    }
   ],
   "source": [
    "#pega o valor base dos indices e soma 1\n",
    "arrayPlus = np.arange(0,30) + 1;arrayPlus"
   ]
  },
  {
   "cell_type": "code",
   "execution_count": 64,
   "id": "a9a7abde",
   "metadata": {},
   "outputs": [
    {
     "data": {
      "text/plain": [
       "array([-1,  0,  1,  2,  3,  4,  5,  6,  7,  8,  9, 10, 11, 12, 13, 14, 15,\n",
       "       16, 17, 18, 19, 20, 21, 22, 23, 24, 25, 26, 27, 28])"
      ]
     },
     "execution_count": 64,
     "metadata": {},
     "output_type": "execute_result"
    }
   ],
   "source": [
    "#subtração\n",
    "arraySub = np.arange(0,30) -1;arraySub"
   ]
  },
  {
   "cell_type": "code",
   "execution_count": 65,
   "id": "87746269",
   "metadata": {},
   "outputs": [],
   "source": [
    "array10 = np.arange(0,30, 3) + 3\n",
    "array11 = np.arange(1,11)"
   ]
  },
  {
   "cell_type": "code",
   "execution_count": 66,
   "id": "7d3baaae",
   "metadata": {},
   "outputs": [
    {
     "data": {
      "text/plain": [
       "array([ 3,  6,  9, 12, 15, 18, 21, 24, 27, 30])"
      ]
     },
     "execution_count": 66,
     "metadata": {},
     "output_type": "execute_result"
    }
   ],
   "source": [
    "array10"
   ]
  },
  {
   "cell_type": "code",
   "execution_count": 67,
   "id": "ece34752",
   "metadata": {},
   "outputs": [
    {
     "data": {
      "text/plain": [
       "array([ 1,  2,  3,  4,  5,  6,  7,  8,  9, 10])"
      ]
     },
     "execution_count": 67,
     "metadata": {},
     "output_type": "execute_result"
    }
   ],
   "source": [
    "array11"
   ]
  },
  {
   "cell_type": "code",
   "execution_count": 68,
   "id": "0d070a3c",
   "metadata": {},
   "outputs": [
    {
     "data": {
      "text/plain": [
       "array([ 2,  4,  6,  8, 10, 12, 14, 16, 18, 20])"
      ]
     },
     "execution_count": 68,
     "metadata": {},
     "output_type": "execute_result"
    }
   ],
   "source": [
    "#Subtrair arrays\n",
    "array10 - array11"
   ]
  },
  {
   "cell_type": "code",
   "execution_count": 69,
   "id": "d46abe2f",
   "metadata": {},
   "outputs": [
    {
     "data": {
      "text/plain": [
       "array([ 4,  8, 12, 16, 20, 24, 28, 32, 36, 40])"
      ]
     },
     "execution_count": 69,
     "metadata": {},
     "output_type": "execute_result"
    }
   ],
   "source": [
    "#adição\n",
    "array10 + array11"
   ]
  },
  {
   "cell_type": "code",
   "execution_count": 70,
   "id": "30ad4460",
   "metadata": {},
   "outputs": [
    {
     "data": {
      "text/plain": [
       "array([  3,  12,  27,  48,  75, 108, 147, 192, 243, 300])"
      ]
     },
     "execution_count": 70,
     "metadata": {},
     "output_type": "execute_result"
    }
   ],
   "source": [
    "#multiplicar\n",
    "array10 * array11"
   ]
  },
  {
   "cell_type": "code",
   "execution_count": 77,
   "id": "df980b09",
   "metadata": {},
   "outputs": [],
   "source": [
    "arr1 = np.array([True, False , True , True])\n",
    "arr2 = np.array([True,True , False , True])"
   ]
  },
  {
   "cell_type": "code",
   "execution_count": 78,
   "id": "75b1d1cf",
   "metadata": {},
   "outputs": [
    {
     "data": {
      "text/plain": [
       "array([ True, False, False,  True])"
      ]
     },
     "execution_count": 78,
     "metadata": {},
     "output_type": "execute_result"
    }
   ],
   "source": [
    "np.logical_and(arr1 ,arr2)"
   ]
  },
  {
   "cell_type": "code",
   "execution_count": null,
   "id": "b1f05e06",
   "metadata": {},
   "outputs": [],
   "source": []
  }
 ],
 "metadata": {
  "kernelspec": {
   "display_name": "Python 3",
   "language": "python",
   "name": "python3"
  },
  "language_info": {
   "codemirror_mode": {
    "name": "ipython",
    "version": 3
   },
   "file_extension": ".py",
   "mimetype": "text/x-python",
   "name": "python",
   "nbconvert_exporter": "python",
   "pygments_lexer": "ipython3",
   "version": "3.8.8"
  }
 },
 "nbformat": 4,
 "nbformat_minor": 5
}
