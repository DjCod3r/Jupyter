{
 "cells": [
  {
   "cell_type": "code",
   "execution_count": 1,
   "id": "64b19e7e",
   "metadata": {},
   "outputs": [],
   "source": [
    "#importar NUMPY\n",
    "import numpy as np"
   ]
  },
  {
   "cell_type": "code",
   "execution_count": 14,
   "id": "70d44cfb",
   "metadata": {},
   "outputs": [],
   "source": [
    "#criar array de uma dimensão com NP\n",
    "arrayUnidimencional = np.array([10, 20 , 40 , 50, 2])"
   ]
  },
  {
   "cell_type": "code",
   "execution_count": 17,
   "id": "0611a71a",
   "metadata": {},
   "outputs": [],
   "source": [
    "#array de 2 dimensões\n",
    "arrayBidimencional = np.array([[20 , 10 , 20], [15, 25 , 15]])"
   ]
  },
  {
   "cell_type": "code",
   "execution_count": 12,
   "id": "ba7af827",
   "metadata": {},
   "outputs": [
    {
     "data": {
      "text/plain": [
       "array([10, 20, 40, 50])"
      ]
     },
     "execution_count": 12,
     "metadata": {},
     "output_type": "execute_result"
    }
   ],
   "source": [
    "#Verificação \n",
    "arrayUnidimencional"
   ]
  },
  {
   "cell_type": "code",
   "execution_count": 11,
   "id": "ed3e677d",
   "metadata": {},
   "outputs": [
    {
     "data": {
      "text/plain": [
       "array([[20, 10, 20],\n",
       "       [15, 25, 15]])"
      ]
     },
     "execution_count": 11,
     "metadata": {},
     "output_type": "execute_result"
    }
   ],
   "source": [
    "arrayBidimencional"
   ]
  },
  {
   "cell_type": "code",
   "execution_count": 15,
   "id": "0ebe8361",
   "metadata": {},
   "outputs": [
    {
     "data": {
      "text/plain": [
       "(5,)"
      ]
     },
     "execution_count": 15,
     "metadata": {},
     "output_type": "execute_result"
    }
   ],
   "source": [
    "#Shape mostra a quantidade de indices e formato\n",
    "arrayUnidimencional.shape"
   ]
  },
  {
   "cell_type": "code",
   "execution_count": 18,
   "id": "f2882c95",
   "metadata": {},
   "outputs": [
    {
     "data": {
      "text/plain": [
       "(2, 3)"
      ]
     },
     "execution_count": 18,
     "metadata": {},
     "output_type": "execute_result"
    }
   ],
   "source": [
    "arrayBidimencional.shape"
   ]
  },
  {
   "cell_type": "code",
   "execution_count": 19,
   "id": "118bfdc9",
   "metadata": {},
   "outputs": [
    {
     "data": {
      "text/plain": [
       "2"
      ]
     },
     "execution_count": 19,
     "metadata": {},
     "output_type": "execute_result"
    }
   ],
   "source": [
    "#verificar quantas dimenções existem\n",
    "arrayBidimencional.ndim"
   ]
  },
  {
   "cell_type": "code",
   "execution_count": 20,
   "id": "93f3e2bd",
   "metadata": {},
   "outputs": [],
   "source": [
    "#arange cria uma estrutura de dados\n",
    "arranjo = np.arange(10)"
   ]
  },
  {
   "cell_type": "code",
   "execution_count": 21,
   "id": "f044567a",
   "metadata": {},
   "outputs": [
    {
     "data": {
      "text/plain": [
       "array([0, 1, 2, 3, 4, 5, 6, 7, 8, 9])"
      ]
     },
     "execution_count": 21,
     "metadata": {},
     "output_type": "execute_result"
    }
   ],
   "source": [
    "arranjo"
   ]
  },
  {
   "cell_type": "code",
   "execution_count": 28,
   "id": "b2ff5626",
   "metadata": {},
   "outputs": [],
   "source": [
    "#começa em 0 vai até o valor 50 e pula de 10 em 10\n",
    "arranjoT = np.arange (1, 50 , 10)"
   ]
  },
  {
   "cell_type": "code",
   "execution_count": 29,
   "id": "c24bce0a",
   "metadata": {},
   "outputs": [
    {
     "data": {
      "text/plain": [
       "array([ 1, 11, 21, 31, 41])"
      ]
     },
     "execution_count": 29,
     "metadata": {},
     "output_type": "execute_result"
    }
   ],
   "source": [
    "arranjoT"
   ]
  },
  {
   "cell_type": "code",
   "execution_count": null,
   "id": "d0b71dbc",
   "metadata": {},
   "outputs": [],
   "source": []
  }
 ],
 "metadata": {
  "kernelspec": {
   "display_name": "Python 3",
   "language": "python",
   "name": "python3"
  },
  "language_info": {
   "codemirror_mode": {
    "name": "ipython",
    "version": 3
   },
   "file_extension": ".py",
   "mimetype": "text/x-python",
   "name": "python",
   "nbconvert_exporter": "python",
   "pygments_lexer": "ipython3",
   "version": "3.8.8"
  }
 },
 "nbformat": 4,
 "nbformat_minor": 5
}
